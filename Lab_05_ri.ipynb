{
  "nbformat": 4,
  "nbformat_minor": 0,
  "metadata": {
    "colab": {
      "name": "Lab_05_ri.ipynb",
      "version": "0.3.2",
      "provenance": [],
      "collapsed_sections": [],
      "toc_visible": true
    },
    "kernelspec": {
      "name": "python3",
      "display_name": "Python 3"
    }
  },
  "cells": [
    {
      "cell_type": "markdown",
      "metadata": {
        "id": "MJLTyu82qf4z",
        "colab_type": "text"
      },
      "source": [
        "# Laboratório 05: Expansão de Consultas"
      ]
    },
    {
      "cell_type": "markdown",
      "metadata": {
        "id": "0odUa72pqo5n",
        "colab_type": "text"
      },
      "source": [
        "Antes de responder as perguntas, precisamos dos documentos que serão extraídos do CSV, além das 5 consultas de um termo escolhidas na questão 2.1 do Laboratório 04 e da lista invertida obtida anteriormente.\n"
      ]
    },
    {
      "cell_type": "markdown",
      "metadata": {
        "id": "jcu3jXRyrfL4",
        "colab_type": "text"
      },
      "source": [
        "\n",
        "*  **Importação das extensões necessárias** "
      ]
    },
    {
      "cell_type": "code",
      "metadata": {
        "id": "Ze0P9bmxrZLt",
        "colab_type": "code",
        "outputId": "7aeb662c-7b89-48e8-af7a-5fb28f321eae",
        "colab": {
          "base_uri": "https://localhost:8080/",
          "height": 85
        }
      },
      "source": [
        "import csv\n",
        "import pandas as pd\n",
        "import numpy as np\n",
        "import nltk\n",
        "import re\n",
        "import collections\n",
        "import math\n",
        "import matplotlib.pyplot as plt\n",
        "import seaborn as sns\n",
        "from nltk.tokenize import RegexpTokenizer\n",
        "from nltk.stem import PorterStemmer \n",
        "from nltk.tokenize import word_tokenize\n",
        "from nltk.corpus import stopwords\n",
        "nltk.download('stopwords')\n",
        "nltk.download('rslp')\n",
        "import heapq\n",
        "import time\n",
        "import bisect"
      ],
      "execution_count": 1,
      "outputs": [
        {
          "output_type": "stream",
          "text": [
            "[nltk_data] Downloading package stopwords to /root/nltk_data...\n",
            "[nltk_data]   Unzipping corpora/stopwords.zip.\n",
            "[nltk_data] Downloading package rslp to /root/nltk_data...\n",
            "[nltk_data]   Unzipping stemmers/rslp.zip.\n"
          ],
          "name": "stdout"
        }
      ]
    },
    {
      "cell_type": "markdown",
      "metadata": {
        "id": "AIP33xNCrolV",
        "colab_type": "text"
      },
      "source": [
        "\n",
        "*   **Leitura do CSV e criação do ranking**"
      ]
    },
    {
      "cell_type": "code",
      "metadata": {
        "id": "TaPNEpzirz6m",
        "colab_type": "code",
        "colab": {}
      },
      "source": [
        "colecao = pd.read_csv('https://raw.githubusercontent.com/LDVictor/ri_lab_01/master/output/results.csv')\n",
        "colecao = colecao.astype(str)\n",
        "documentos = colecao['texto']"
      ],
      "execution_count": 0,
      "outputs": []
    },
    {
      "cell_type": "code",
      "metadata": {
        "id": "-wHF3gm-SeuE",
        "colab_type": "code",
        "colab": {}
      },
      "source": [
        "tokenizador = RegexpTokenizer(r'([A-Za-zÁáÉéÍíÓóÚúÃãÕõÇçÂâÊê]{3,27})')\n",
        "stopwords = nltk.corpus.stopwords.words('portuguese') \n",
        "indices = {}\n",
        "n = 0\n",
        "\n",
        "for texto in documentos:\n",
        "  palavras = [palavra for palavra in tokenizador.tokenize(texto.lower())\n",
        "           if not bool(re.search(r'\\d', palavra))\n",
        "           and palavra not in stopwords and len(palavra) >= 3]  \n",
        "  n += 1\n",
        "  for t in palavras:\n",
        "    if t not in indices.keys():\n",
        "      indices[t] = []\n",
        "    indices[t].append(n)\n",
        "    \n",
        "for elemento in indices.items():\n",
        "  d = dict(collections.Counter(elemento[1]))\n",
        "  indices[elemento[0]] = list(d.items())"
      ],
      "execution_count": 0,
      "outputs": []
    },
    {
      "cell_type": "markdown",
      "metadata": {
        "id": "4N8nohH4sYAg",
        "colab_type": "text"
      },
      "source": [
        "\n",
        "\n",
        "*  **Definição das 5 consultas**"
      ]
    },
    {
      "cell_type": "code",
      "metadata": {
        "id": "yckUlw13sjGc",
        "colab_type": "code",
        "colab": {}
      },
      "source": [
        "consultas = [\"presidente\", \"educação\", \"privatização\", \"empresa\", \"bolsonaro\"]"
      ],
      "execution_count": 0,
      "outputs": []
    },
    {
      "cell_type": "markdown",
      "metadata": {
        "id": "OdfYJOqisKRo",
        "colab_type": "text"
      },
      "source": [
        "# Questão 1"
      ]
    },
    {
      "cell_type": "markdown",
      "metadata": {
        "id": "y3lcNBd6sR8e",
        "colab_type": "text"
      },
      "source": [
        "**Calcule as top-10 palavras mais associadas a cada uma dessas 5 palavras de acordo com as 4 métricas que vimos na aula. Você deve produzir uma tabela similar à tabela 6.3 do capítulo 6 do livro texto (pág. 204).**\n"
      ]
    },
    {
      "cell_type": "markdown",
      "metadata": {
        "id": "vgBEaQFCxifh",
        "colab_type": "text"
      },
      "source": [
        "Primeiramente, iremos definir as funções para calcular cada uma das métricas: Dice's Coefficient (Dice), Mutual Information Measure (MIM), Expected Mutual Information Measure (EMIM) e Pearson's Chi-squared (χ²)."
      ]
    },
    {
      "cell_type": "code",
      "metadata": {
        "id": "IAGuB0Ocx_zS",
        "colab_type": "code",
        "colab": {}
      },
      "source": [
        "def valorMIM(a, b, ranking):\n",
        "  na = calculaNx(a, ranking)\n",
        "  nb = calculaNx(b, ranking)\n",
        "  nab = calculaNab(a, b, ranking)\n",
        "  if (na * nb) != 0:\n",
        "    mim = nab / (na * nb)\n",
        "  else:\n",
        "    mim = 0\n",
        "  return (mim, b)\n",
        "  \n",
        "def valorEMIM(a, b, ranking, n):\n",
        "  na = calculaNx(a, ranking)\n",
        "  nb = calculaNx(b, ranking)\n",
        "  nab = calculaNab(a, b, ranking)\n",
        "  div = (na * nb)\n",
        "  if div != 0:\n",
        "    exp = n * (nab / div)\n",
        "  else:\n",
        "    exp = 0\n",
        "  if exp != 0:\n",
        "    emim = nab * np.log10(exp)\n",
        "  else:\n",
        "    emim = 0\n",
        "  return (na, b)\n",
        "  \n",
        "def valorChiSquared(a, b, ranking, n):\n",
        "  na = calculaNx(a, ranking)\n",
        "  nb = calculaNx(b, ranking)\n",
        "  nab = calculaNab(a, b, ranking)\n",
        "  if (na * nb) != 0:\n",
        "    chi_squared = ((nab - (1 / n) * na * nb) ** 2 / (na * nb))\n",
        "  else:\n",
        "    chi_squared = 0\n",
        "  return (chi_squared, b)\n",
        "  \n",
        "def valorDice(a, b, ranking):\n",
        "  na = calculaNx(a, ranking)\n",
        "  nb = calculaNx(b, ranking)\n",
        "  nab = calculaNab(a, b, ranking)\n",
        "  dice = (nab / (na + nb))\n",
        "  return (dice, b)"
      ],
      "execution_count": 0,
      "outputs": []
    },
    {
      "cell_type": "markdown",
      "metadata": {
        "id": "AofRk0mA3XOF",
        "colab_type": "text"
      },
      "source": [
        "De maneira análoga, também precisamos definir como calcular os valores de Na, Nb, Nab e N para usar nas métricas definidas."
      ]
    },
    {
      "cell_type": "code",
      "metadata": {
        "id": "cwQOyXls3hem",
        "colab_type": "code",
        "colab": {}
      },
      "source": [
        "def calculaNx(palavraX, ranking):\n",
        "  return len(ranking[palavraX])\n",
        "\n",
        "def calculaNab(palavraA, palavraB, ranking):\n",
        "  documentosA = [documento for documento, pontos in ranking[palavraA]]\n",
        "  documentosB = [documento for documento, pontos in ranking[palavraB]]\n",
        "  n = 0\n",
        "  \n",
        "  for documento in documentosA:\n",
        "    if documento in documentosB:\n",
        "      n += 1\n",
        "      \n",
        "  return n"
      ],
      "execution_count": 0,
      "outputs": []
    },
    {
      "cell_type": "markdown",
      "metadata": {
        "id": "wmTqPQgt1nhr",
        "colab_type": "text"
      },
      "source": [
        "Com as funções já criadas, podemos agora percorrer a lista invertida para cada consulta, armazenando os resultados dos cálculos de cada métrica. Para isso, criaremos uma função que, dada a consulta, retornará uma tabela com as 10 palavras mais associadas a cada consulta de acordo com as métricas que definimos acima."
      ]
    },
    {
      "cell_type": "code",
      "metadata": {
        "id": "5MZsIUGf11Dp",
        "colab_type": "code",
        "colab": {}
      },
      "source": [
        "def criaTabela(consulta, ranking, n):\n",
        "  dice = []\n",
        "  mim = []\n",
        "  emim = []\n",
        "  chi_squared = []\n",
        "  \n",
        "  for palavra in ranking:\n",
        "    if palavra != consulta:\n",
        "      bisect.insort(dice, valorDice(consulta, palavra, ranking))\n",
        "      bisect.insort(mim, valorMIM(consulta, palavra, ranking))\n",
        "      bisect.insort(emim, valorEMIM(consulta, palavra, ranking, n))\n",
        "      bisect.insort(chi_squared, valorChiSquared(consulta, palavra, ranking, n))\n",
        "\n",
        "  dice.reverse()    \n",
        "  mim.reverse()\n",
        "  emim.reverse()\n",
        "  chi_squared.reverse()\n",
        "  \n",
        "  tabela_metricas = pd.DataFrame(columns=['MIM', 'EMIM', 'χ²', 'Dice'])\n",
        "\n",
        "  tabela_metricas['MIM'] = [palavra[1] for palavra in mim]\n",
        "  tabela_metricas['EMIM'] = [palavra[1] for palavra in emim]\n",
        "  tabela_metricas['χ²'] = [palavra[1] for palavra in chi_squared]\n",
        "  tabela_metricas['Dice'] = [palavra[1] for palavra in dice]\n",
        "  \n",
        "  tabela_metricas.index += 1\n",
        "  \n",
        "  return tabela_metricas.head(10)"
      ],
      "execution_count": 0,
      "outputs": []
    },
    {
      "cell_type": "markdown",
      "metadata": {
        "id": "InAHxGSEv7Ky",
        "colab_type": "text"
      },
      "source": [
        "Por fim, chamaremos a função para cada consulta do vetor.\n"
      ]
    },
    {
      "cell_type": "markdown",
      "metadata": {
        "id": "WE0V1F-495XT",
        "colab_type": "text"
      },
      "source": [
        "\n",
        "\n",
        "1.   Consulta \"presidente\""
      ]
    },
    {
      "cell_type": "code",
      "metadata": {
        "id": "x-I3AjYPsWpH",
        "colab_type": "code",
        "outputId": "eac638f3-cdcf-487e-9c38-ab70fbbdbff1",
        "colab": {
          "base_uri": "https://localhost:8080/",
          "height": 359
        }
      },
      "source": [
        "n = colecao.texto.count()\n",
        "tabela_consulta_1 = criaTabela(consultas[0], indices, n)\n",
        "tabela_consulta_1"
      ],
      "execution_count": 9,
      "outputs": [
        {
          "output_type": "execute_result",
          "data": {
            "text/html": [
              "<div>\n",
              "<style scoped>\n",
              "    .dataframe tbody tr th:only-of-type {\n",
              "        vertical-align: middle;\n",
              "    }\n",
              "\n",
              "    .dataframe tbody tr th {\n",
              "        vertical-align: top;\n",
              "    }\n",
              "\n",
              "    .dataframe thead th {\n",
              "        text-align: right;\n",
              "    }\n",
              "</style>\n",
              "<table border=\"1\" class=\"dataframe\">\n",
              "  <thead>\n",
              "    <tr style=\"text-align: right;\">\n",
              "      <th></th>\n",
              "      <th>MIM</th>\n",
              "      <th>EMIM</th>\n",
              "      <th>χ²</th>\n",
              "      <th>Dice</th>\n",
              "    </tr>\n",
              "  </thead>\n",
              "  <tbody>\n",
              "    <tr>\n",
              "      <th>1</th>\n",
              "      <td>útil</td>\n",
              "      <td>útil</td>\n",
              "      <td>presidência</td>\n",
              "      <td>governo</td>\n",
              "    </tr>\n",
              "    <tr>\n",
              "      <th>2</th>\n",
              "      <td>úteis</td>\n",
              "      <td>úteis</td>\n",
              "      <td>feira</td>\n",
              "      <td>ser</td>\n",
              "    </tr>\n",
              "    <tr>\n",
              "      <th>3</th>\n",
              "      <td>únicos</td>\n",
              "      <td>únicos</td>\n",
              "      <td>forças</td>\n",
              "      <td>brasil</td>\n",
              "    </tr>\n",
              "    <tr>\n",
              "      <th>4</th>\n",
              "      <td>ótimos</td>\n",
              "      <td>único</td>\n",
              "      <td>armadas</td>\n",
              "      <td>sobre</td>\n",
              "    </tr>\n",
              "    <tr>\n",
              "      <th>5</th>\n",
              "      <td>ótimo</td>\n",
              "      <td>únicas</td>\n",
              "      <td>trump</td>\n",
              "      <td>país</td>\n",
              "    </tr>\n",
              "    <tr>\n",
              "      <th>6</th>\n",
              "      <td>ótica</td>\n",
              "      <td>única</td>\n",
              "      <td>posição</td>\n",
              "      <td>bolsonaro</td>\n",
              "    </tr>\n",
              "    <tr>\n",
              "      <th>7</th>\n",
              "      <td>ódios</td>\n",
              "      <td>últimos</td>\n",
              "      <td>brasil</td>\n",
              "      <td>feira</td>\n",
              "    </tr>\n",
              "    <tr>\n",
              "      <th>8</th>\n",
              "      <td>óculos</td>\n",
              "      <td>último</td>\n",
              "      <td>parte</td>\n",
              "      <td>ainda</td>\n",
              "    </tr>\n",
              "    <tr>\n",
              "      <th>9</th>\n",
              "      <td>íntima</td>\n",
              "      <td>últimas</td>\n",
              "      <td>venezuela</td>\n",
              "      <td>disse</td>\n",
              "    </tr>\n",
              "    <tr>\n",
              "      <th>10</th>\n",
              "      <td>índole</td>\n",
              "      <td>última</td>\n",
              "      <td>casa</td>\n",
              "      <td>segundo</td>\n",
              "    </tr>\n",
              "  </tbody>\n",
              "</table>\n",
              "</div>"
            ],
            "text/plain": [
              "       MIM     EMIM           χ²       Dice\n",
              "1     útil     útil  presidência    governo\n",
              "2    úteis    úteis        feira        ser\n",
              "3   únicos   únicos       forças     brasil\n",
              "4   ótimos    único      armadas      sobre\n",
              "5    ótimo   únicas        trump       país\n",
              "6    ótica    única      posição  bolsonaro\n",
              "7    ódios  últimos       brasil      feira\n",
              "8   óculos   último        parte      ainda\n",
              "9   íntima  últimas    venezuela      disse\n",
              "10  índole   última         casa    segundo"
            ]
          },
          "metadata": {
            "tags": []
          },
          "execution_count": 9
        }
      ]
    },
    {
      "cell_type": "markdown",
      "metadata": {
        "id": "j1GjRUJQ99c3",
        "colab_type": "text"
      },
      "source": [
        "\n",
        "2.   Consulta \"educação\"\n",
        "\n"
      ]
    },
    {
      "cell_type": "code",
      "metadata": {
        "id": "iL9sFReU-E_b",
        "colab_type": "code",
        "outputId": "a9686e27-b293-4a53-d5ec-dbd034a61efc",
        "colab": {
          "base_uri": "https://localhost:8080/",
          "height": 359
        }
      },
      "source": [
        "tabela_consulta_2 = criaTabela(consultas[1], indices, n)\n",
        "tabela_consulta_2"
      ],
      "execution_count": 10,
      "outputs": [
        {
          "output_type": "execute_result",
          "data": {
            "text/html": [
              "<div>\n",
              "<style scoped>\n",
              "    .dataframe tbody tr th:only-of-type {\n",
              "        vertical-align: middle;\n",
              "    }\n",
              "\n",
              "    .dataframe tbody tr th {\n",
              "        vertical-align: top;\n",
              "    }\n",
              "\n",
              "    .dataframe thead th {\n",
              "        text-align: right;\n",
              "    }\n",
              "</style>\n",
              "<table border=\"1\" class=\"dataframe\">\n",
              "  <thead>\n",
              "    <tr style=\"text-align: right;\">\n",
              "      <th></th>\n",
              "      <th>MIM</th>\n",
              "      <th>EMIM</th>\n",
              "      <th>χ²</th>\n",
              "      <th>Dice</th>\n",
              "    </tr>\n",
              "  </thead>\n",
              "  <tbody>\n",
              "    <tr>\n",
              "      <th>1</th>\n",
              "      <td>íntimas</td>\n",
              "      <td>útil</td>\n",
              "      <td>constrangimento</td>\n",
              "      <td>sociais</td>\n",
              "    </tr>\n",
              "    <tr>\n",
              "      <th>2</th>\n",
              "      <td>íntima</td>\n",
              "      <td>úteis</td>\n",
              "      <td>substancial</td>\n",
              "      <td>instituto</td>\n",
              "    </tr>\n",
              "    <tr>\n",
              "      <th>3</th>\n",
              "      <td>ânima</td>\n",
              "      <td>únicos</td>\n",
              "      <td>holocausto</td>\n",
              "      <td>redes</td>\n",
              "    </tr>\n",
              "    <tr>\n",
              "      <th>4</th>\n",
              "      <td>âncora</td>\n",
              "      <td>único</td>\n",
              "      <td>instituto</td>\n",
              "      <td>ricardo</td>\n",
              "    </tr>\n",
              "    <tr>\n",
              "      <th>5</th>\n",
              "      <td>ávila</td>\n",
              "      <td>únicas</td>\n",
              "      <td>nacionalista</td>\n",
              "      <td>violência</td>\n",
              "    </tr>\n",
              "    <tr>\n",
              "      <th>6</th>\n",
              "      <td>álibis</td>\n",
              "      <td>única</td>\n",
              "      <td>durou</td>\n",
              "      <td>culpa</td>\n",
              "    </tr>\n",
              "    <tr>\n",
              "      <th>7</th>\n",
              "      <td>zumba</td>\n",
              "      <td>últimos</td>\n",
              "      <td>comentários</td>\n",
              "      <td>alunos</td>\n",
              "    </tr>\n",
              "    <tr>\n",
              "      <th>8</th>\n",
              "      <td>zelar</td>\n",
              "      <td>último</td>\n",
              "      <td>ricardo</td>\n",
              "      <td>constrangimento</td>\n",
              "    </tr>\n",
              "    <tr>\n",
              "      <th>9</th>\n",
              "      <td>zeidan</td>\n",
              "      <td>últimas</td>\n",
              "      <td>sociais</td>\n",
              "      <td>faz</td>\n",
              "    </tr>\n",
              "    <tr>\n",
              "      <th>10</th>\n",
              "      <td>ynaê</td>\n",
              "      <td>última</td>\n",
              "      <td>sofrimento</td>\n",
              "      <td>escolas</td>\n",
              "    </tr>\n",
              "  </tbody>\n",
              "</table>\n",
              "</div>"
            ],
            "text/plain": [
              "        MIM     EMIM               χ²             Dice\n",
              "1   íntimas     útil  constrangimento          sociais\n",
              "2    íntima    úteis      substancial        instituto\n",
              "3     ânima   únicos       holocausto            redes\n",
              "4    âncora    único        instituto          ricardo\n",
              "5     ávila   únicas     nacionalista        violência\n",
              "6    álibis    única            durou            culpa\n",
              "7     zumba  últimos      comentários           alunos\n",
              "8     zelar   último          ricardo  constrangimento\n",
              "9    zeidan  últimas          sociais              faz\n",
              "10     ynaê   última       sofrimento          escolas"
            ]
          },
          "metadata": {
            "tags": []
          },
          "execution_count": 10
        }
      ]
    },
    {
      "cell_type": "markdown",
      "metadata": {
        "id": "nKK__E9O-Iis",
        "colab_type": "text"
      },
      "source": [
        "\n",
        "3.   Consulta \"privatização\""
      ]
    },
    {
      "cell_type": "code",
      "metadata": {
        "id": "oB6yV8xd-OrT",
        "colab_type": "code",
        "outputId": "0528c7fa-7107-4a77-f0e0-b60b69d4d347",
        "colab": {
          "base_uri": "https://localhost:8080/",
          "height": 359
        }
      },
      "source": [
        "tabela_consulta_3 = criaTabela(consultas[2], indices, n)\n",
        "tabela_consulta_3"
      ],
      "execution_count": 11,
      "outputs": [
        {
          "output_type": "execute_result",
          "data": {
            "text/html": [
              "<div>\n",
              "<style scoped>\n",
              "    .dataframe tbody tr th:only-of-type {\n",
              "        vertical-align: middle;\n",
              "    }\n",
              "\n",
              "    .dataframe tbody tr th {\n",
              "        vertical-align: top;\n",
              "    }\n",
              "\n",
              "    .dataframe thead th {\n",
              "        text-align: right;\n",
              "    }\n",
              "</style>\n",
              "<table border=\"1\" class=\"dataframe\">\n",
              "  <thead>\n",
              "    <tr style=\"text-align: right;\">\n",
              "      <th></th>\n",
              "      <th>MIM</th>\n",
              "      <th>EMIM</th>\n",
              "      <th>χ²</th>\n",
              "      <th>Dice</th>\n",
              "    </tr>\n",
              "  </thead>\n",
              "  <tbody>\n",
              "    <tr>\n",
              "      <th>1</th>\n",
              "      <td>ámbito</td>\n",
              "      <td>útil</td>\n",
              "      <td>rentabilidade</td>\n",
              "      <td>rentabilidade</td>\n",
              "    </tr>\n",
              "    <tr>\n",
              "      <th>2</th>\n",
              "      <td>zelar</td>\n",
              "      <td>úteis</td>\n",
              "      <td>juros</td>\n",
              "      <td>juros</td>\n",
              "    </tr>\n",
              "    <tr>\n",
              "      <th>3</th>\n",
              "      <td>véu</td>\n",
              "      <td>únicos</td>\n",
              "      <td>externo</td>\n",
              "      <td>externo</td>\n",
              "    </tr>\n",
              "    <tr>\n",
              "      <th>4</th>\n",
              "      <td>voos</td>\n",
              "      <td>único</td>\n",
              "      <td>melhora</td>\n",
              "      <td>melhora</td>\n",
              "    </tr>\n",
              "    <tr>\n",
              "      <th>5</th>\n",
              "      <td>vencidas</td>\n",
              "      <td>únicas</td>\n",
              "      <td>consistente</td>\n",
              "      <td>consistente</td>\n",
              "    </tr>\n",
              "    <tr>\n",
              "      <th>6</th>\n",
              "      <td>venciam</td>\n",
              "      <td>única</td>\n",
              "      <td>beneficia</td>\n",
              "      <td>beneficia</td>\n",
              "    </tr>\n",
              "    <tr>\n",
              "      <th>7</th>\n",
              "      <td>vastas</td>\n",
              "      <td>últimos</td>\n",
              "      <td>aprofundamento</td>\n",
              "      <td>aprofundamento</td>\n",
              "    </tr>\n",
              "    <tr>\n",
              "      <th>8</th>\n",
              "      <td>variações</td>\n",
              "      <td>último</td>\n",
              "      <td>impostos</td>\n",
              "      <td>impostos</td>\n",
              "    </tr>\n",
              "    <tr>\n",
              "      <th>9</th>\n",
              "      <td>variação</td>\n",
              "      <td>últimas</td>\n",
              "      <td>ámbito</td>\n",
              "      <td>sustentar</td>\n",
              "    </tr>\n",
              "    <tr>\n",
              "      <th>10</th>\n",
              "      <td>turbulências</td>\n",
              "      <td>última</td>\n",
              "      <td>zelar</td>\n",
              "      <td>pressões</td>\n",
              "    </tr>\n",
              "  </tbody>\n",
              "</table>\n",
              "</div>"
            ],
            "text/plain": [
              "             MIM     EMIM              χ²            Dice\n",
              "1         ámbito     útil   rentabilidade   rentabilidade\n",
              "2          zelar    úteis           juros           juros\n",
              "3            véu   únicos         externo         externo\n",
              "4           voos    único         melhora         melhora\n",
              "5       vencidas   únicas     consistente     consistente\n",
              "6        venciam    única       beneficia       beneficia\n",
              "7         vastas  últimos  aprofundamento  aprofundamento\n",
              "8      variações   último        impostos        impostos\n",
              "9       variação  últimas          ámbito       sustentar\n",
              "10  turbulências   última           zelar        pressões"
            ]
          },
          "metadata": {
            "tags": []
          },
          "execution_count": 11
        }
      ]
    },
    {
      "cell_type": "markdown",
      "metadata": {
        "id": "7dI-fWd0-Q9Y",
        "colab_type": "text"
      },
      "source": [
        "\n",
        "4.   Consulta \"empresa\""
      ]
    },
    {
      "cell_type": "code",
      "metadata": {
        "id": "_I6RL0fn-Wu6",
        "colab_type": "code",
        "outputId": "3b3de153-6574-4ed0-e63a-af61df996e90",
        "colab": {
          "base_uri": "https://localhost:8080/",
          "height": 359
        }
      },
      "source": [
        "tabela_consulta_4 = criaTabela(consultas[3], indices, n)\n",
        "tabela_consulta_4"
      ],
      "execution_count": 12,
      "outputs": [
        {
          "output_type": "execute_result",
          "data": {
            "text/html": [
              "<div>\n",
              "<style scoped>\n",
              "    .dataframe tbody tr th:only-of-type {\n",
              "        vertical-align: middle;\n",
              "    }\n",
              "\n",
              "    .dataframe tbody tr th {\n",
              "        vertical-align: top;\n",
              "    }\n",
              "\n",
              "    .dataframe thead th {\n",
              "        text-align: right;\n",
              "    }\n",
              "</style>\n",
              "<table border=\"1\" class=\"dataframe\">\n",
              "  <thead>\n",
              "    <tr style=\"text-align: right;\">\n",
              "      <th></th>\n",
              "      <th>MIM</th>\n",
              "      <th>EMIM</th>\n",
              "      <th>χ²</th>\n",
              "      <th>Dice</th>\n",
              "    </tr>\n",
              "  </thead>\n",
              "  <tbody>\n",
              "    <tr>\n",
              "      <th>1</th>\n",
              "      <td>ânimo</td>\n",
              "      <td>útil</td>\n",
              "      <td>desculpas</td>\n",
              "      <td>brasília</td>\n",
              "    </tr>\n",
              "    <tr>\n",
              "      <th>2</th>\n",
              "      <td>ânima</td>\n",
              "      <td>úteis</td>\n",
              "      <td>irregularidades</td>\n",
              "      <td>empresas</td>\n",
              "    </tr>\n",
              "    <tr>\n",
              "      <th>3</th>\n",
              "      <td>zoneamento</td>\n",
              "      <td>únicos</td>\n",
              "      <td>coronel</td>\n",
              "      <td>reais</td>\n",
              "    </tr>\n",
              "    <tr>\n",
              "      <th>4</th>\n",
              "      <td>zimmermann</td>\n",
              "      <td>único</td>\n",
              "      <td>brasília</td>\n",
              "      <td>coronel</td>\n",
              "    </tr>\n",
              "    <tr>\n",
              "      <th>5</th>\n",
              "      <td>yousseff</td>\n",
              "      <td>únicas</td>\n",
              "      <td>sócio</td>\n",
              "      <td>área</td>\n",
              "    </tr>\n",
              "    <tr>\n",
              "      <th>6</th>\n",
              "      <td>younger</td>\n",
              "      <td>única</td>\n",
              "      <td>rita</td>\n",
              "      <td>duas</td>\n",
              "    </tr>\n",
              "    <tr>\n",
              "      <th>7</th>\n",
              "      <td>xingam</td>\n",
              "      <td>últimos</td>\n",
              "      <td>morre</td>\n",
              "      <td>pagamento</td>\n",
              "    </tr>\n",
              "    <tr>\n",
              "      <th>8</th>\n",
              "      <td>xerife</td>\n",
              "      <td>último</td>\n",
              "      <td>nicas</td>\n",
              "      <td>corrupção</td>\n",
              "    </tr>\n",
              "    <tr>\n",
              "      <th>9</th>\n",
              "      <td>werner</td>\n",
              "      <td>últimas</td>\n",
              "      <td>irregularidade</td>\n",
              "      <td>lima</td>\n",
              "    </tr>\n",
              "    <tr>\n",
              "      <th>10</th>\n",
              "      <td>wanzhou</td>\n",
              "      <td>última</td>\n",
              "      <td>delatores</td>\n",
              "      <td>risco</td>\n",
              "    </tr>\n",
              "  </tbody>\n",
              "</table>\n",
              "</div>"
            ],
            "text/plain": [
              "           MIM     EMIM               χ²       Dice\n",
              "1        ânimo     útil        desculpas   brasília\n",
              "2        ânima    úteis  irregularidades   empresas\n",
              "3   zoneamento   únicos          coronel      reais\n",
              "4   zimmermann    único         brasília    coronel\n",
              "5     yousseff   únicas            sócio       área\n",
              "6      younger    única             rita       duas\n",
              "7       xingam  últimos            morre  pagamento\n",
              "8       xerife   último            nicas  corrupção\n",
              "9       werner  últimas   irregularidade       lima\n",
              "10     wanzhou   última        delatores      risco"
            ]
          },
          "metadata": {
            "tags": []
          },
          "execution_count": 12
        }
      ]
    },
    {
      "cell_type": "markdown",
      "metadata": {
        "id": "ncw3x0O--ZGe",
        "colab_type": "text"
      },
      "source": [
        "\n",
        "\n",
        "5.   Consulta \"bolsonaro\"\n"
      ]
    },
    {
      "cell_type": "code",
      "metadata": {
        "id": "V3pxpWkc-gGL",
        "colab_type": "code",
        "outputId": "41c3cea3-c1e5-48af-e27e-f08fa314736f",
        "colab": {
          "base_uri": "https://localhost:8080/",
          "height": 359
        }
      },
      "source": [
        "tabela_consulta_5 = criaTabela(consultas[4], indices, n)\n",
        "tabela_consulta_5"
      ],
      "execution_count": 13,
      "outputs": [
        {
          "output_type": "execute_result",
          "data": {
            "text/html": [
              "<div>\n",
              "<style scoped>\n",
              "    .dataframe tbody tr th:only-of-type {\n",
              "        vertical-align: middle;\n",
              "    }\n",
              "\n",
              "    .dataframe tbody tr th {\n",
              "        vertical-align: top;\n",
              "    }\n",
              "\n",
              "    .dataframe thead th {\n",
              "        text-align: right;\n",
              "    }\n",
              "</style>\n",
              "<table border=\"1\" class=\"dataframe\">\n",
              "  <thead>\n",
              "    <tr style=\"text-align: right;\">\n",
              "      <th></th>\n",
              "      <th>MIM</th>\n",
              "      <th>EMIM</th>\n",
              "      <th>χ²</th>\n",
              "      <th>Dice</th>\n",
              "    </tr>\n",
              "  </thead>\n",
              "  <tbody>\n",
              "    <tr>\n",
              "      <th>1</th>\n",
              "      <td>útil</td>\n",
              "      <td>útil</td>\n",
              "      <td>jair</td>\n",
              "      <td>brasil</td>\n",
              "    </tr>\n",
              "    <tr>\n",
              "      <th>2</th>\n",
              "      <td>úteis</td>\n",
              "      <td>úteis</td>\n",
              "      <td>brasil</td>\n",
              "      <td>jair</td>\n",
              "    </tr>\n",
              "    <tr>\n",
              "      <th>3</th>\n",
              "      <td>únicos</td>\n",
              "      <td>únicos</td>\n",
              "      <td>psl</td>\n",
              "      <td>presidente</td>\n",
              "    </tr>\n",
              "    <tr>\n",
              "      <th>4</th>\n",
              "      <td>ótimos</td>\n",
              "      <td>único</td>\n",
              "      <td>deputado</td>\n",
              "      <td>governo</td>\n",
              "    </tr>\n",
              "    <tr>\n",
              "      <th>5</th>\n",
              "      <td>íntima</td>\n",
              "      <td>únicas</td>\n",
              "      <td>campanha</td>\n",
              "      <td>ser</td>\n",
              "    </tr>\n",
              "    <tr>\n",
              "      <th>6</th>\n",
              "      <td>índole</td>\n",
              "      <td>única</td>\n",
              "      <td>filhos</td>\n",
              "      <td>ainda</td>\n",
              "    </tr>\n",
              "    <tr>\n",
              "      <th>7</th>\n",
              "      <td>ímpetos</td>\n",
              "      <td>últimos</td>\n",
              "      <td>presidência</td>\n",
              "      <td>disse</td>\n",
              "    </tr>\n",
              "    <tr>\n",
              "      <th>8</th>\n",
              "      <td>ênfase</td>\n",
              "      <td>último</td>\n",
              "      <td>capitão</td>\n",
              "      <td>sobre</td>\n",
              "    </tr>\n",
              "    <tr>\n",
              "      <th>9</th>\n",
              "      <td>étnicos</td>\n",
              "      <td>últimas</td>\n",
              "      <td>araújo</td>\n",
              "      <td>ter</td>\n",
              "    </tr>\n",
              "    <tr>\n",
              "      <th>10</th>\n",
              "      <td>étnicas</td>\n",
              "      <td>última</td>\n",
              "      <td>eleição</td>\n",
              "      <td>diz</td>\n",
              "    </tr>\n",
              "  </tbody>\n",
              "</table>\n",
              "</div>"
            ],
            "text/plain": [
              "        MIM     EMIM           χ²        Dice\n",
              "1      útil     útil         jair      brasil\n",
              "2     úteis    úteis       brasil        jair\n",
              "3    únicos   únicos          psl  presidente\n",
              "4    ótimos    único     deputado     governo\n",
              "5    íntima   únicas     campanha         ser\n",
              "6    índole    única       filhos       ainda\n",
              "7   ímpetos  últimos  presidência       disse\n",
              "8    ênfase   último      capitão       sobre\n",
              "9   étnicos  últimas       araújo         ter\n",
              "10  étnicas   última      eleição         diz"
            ]
          },
          "metadata": {
            "tags": []
          },
          "execution_count": 13
        }
      ]
    },
    {
      "cell_type": "markdown",
      "metadata": {
        "id": "T4RELgtNspFN",
        "colab_type": "text"
      },
      "source": [
        "\n",
        "**Qual métrica você acha que obteve os melhores resultados? Por que?**"
      ]
    },
    {
      "cell_type": "markdown",
      "metadata": {
        "id": "slZPTQtAszjl",
        "colab_type": "text"
      },
      "source": [
        "Após a análise de todos os resultados das tabelas acima, a métrica do coeficiente de Dice aparentou ter os melhores resultados para as cinco consultas definidas pelo fato de ter sido a mais estável e confiável na variedade de palavras usadas."
      ]
    },
    {
      "cell_type": "markdown",
      "metadata": {
        "id": "VYY6t-0bs4Jx",
        "colab_type": "text"
      },
      "source": [
        "# Questão 2"
      ]
    },
    {
      "cell_type": "markdown",
      "metadata": {
        "id": "pCUxjPfIs6Jc",
        "colab_type": "text"
      },
      "source": [
        "**De acordo com a métrica que deu os melhores resultados na sua opinião, execute agora cada consulta (usando a abordagem documento- ou termo-por-vez)  expandido-a com: os top-3, top-5 e top-10 documentos.**"
      ]
    },
    {
      "cell_type": "markdown",
      "metadata": {
        "id": "KNSGlMvHfVlc",
        "colab_type": "text"
      },
      "source": [
        "Primeiramente, precisamos da função que segue uma abordagem documento-por-vez ou termo-por-vez. Para essa questão, iremos escolher a abordagem documento-por-vez implementada na última atividade de laboratório."
      ]
    },
    {
      "cell_type": "code",
      "metadata": {
        "id": "koKSktXDfnxX",
        "colab_type": "code",
        "colab": {}
      },
      "source": [
        "def documentoPorVez(consulta, indices, k):\n",
        "    listas_invertidas = []\n",
        "    r = []\n",
        "    for palavra in consulta.split(\" \"):\n",
        "        if palavra in indices.keys():\n",
        "            listas_invertidas.append(indices[palavra])\n",
        "    for documento in range(1, len(documentos)+1):\n",
        "        sd = 0\n",
        "        for lista_invertida in listas_invertidas:\n",
        "            for i in lista_invertida:\n",
        "                if (i[0] == documento): \n",
        "                    sd += i[1]\n",
        "                    break\n",
        "        if (sd != 0):\n",
        "          heapq.heappush(r, (sd, documento))\n",
        "    return heapq.nlargest(k, r)"
      ],
      "execution_count": 0,
      "outputs": []
    },
    {
      "cell_type": "markdown",
      "metadata": {
        "id": "S_QgxDSRfuzs",
        "colab_type": "text"
      },
      "source": [
        "Agora, montaremos o ranking das palavras considerando apenas os top-k documentos para a palavra da consulta. E então, fazendo uso do coeficiente de Dice, expandiremos a consulta a partir desse ranking para todas as palavras no ranking inicial."
      ]
    },
    {
      "cell_type": "code",
      "metadata": {
        "id": "WDp8zlCCs-4S",
        "colab_type": "code",
        "colab": {}
      },
      "source": [
        "def expansaoConsulta(consulta, k):\n",
        "  \n",
        "  expansao_documentos = [documento for pontos, documento in documentoPorVez(consulta, indices, k)]\n",
        "  ranking_expandido = {} \n",
        "  \n",
        "  for palavra in indices:\n",
        "    ranking_expandido[palavra] = []\n",
        "    for pontos_documento in indices[palavra]:\n",
        "      if pontos_documento[0] in expansao_documentos:\n",
        "        ranking_expandido[palavra].append(pontos_documento)\n",
        "        \n",
        "  return ranking_expandido"
      ],
      "execution_count": 0,
      "outputs": []
    },
    {
      "cell_type": "markdown",
      "metadata": {
        "id": "J6KieU_ZDj0-",
        "colab_type": "text"
      },
      "source": [
        "\n",
        "*   **Documentos Top 3**\n"
      ]
    },
    {
      "cell_type": "code",
      "metadata": {
        "id": "CDLf_lKxDyP7",
        "colab_type": "code",
        "colab": {}
      },
      "source": [
        "k = 3\n",
        "documentos_ranking_1 = expansaoConsulta(consultas[0], k)\n",
        "documentos_ranking_2 = expansaoConsulta(consultas[1], k)\n",
        "documentos_ranking_3 = expansaoConsulta(consultas[2], k)\n",
        "documentos_ranking_4 = expansaoConsulta(consultas[3], k)\n",
        "documentos_ranking_5 = expansaoConsulta(consultas[4], k)\n",
        "\n",
        "\n",
        "tabela_top_1 = criaTabela(consultas[0], documentos_ranking_1, k)\n",
        "tabela_top_2 = criaTabela(consultas[1], documentos_ranking_2, k)\n",
        "tabela_top_3 = criaTabela(consultas[2], documentos_ranking_3, k)\n",
        "tabela_top_4 = criaTabela(consultas[3], documentos_ranking_4, k)\n",
        "tabela_top_5 = criaTabela(consultas[4], documentos_ranking_5, k)"
      ],
      "execution_count": 0,
      "outputs": []
    },
    {
      "cell_type": "markdown",
      "metadata": {
        "id": "TT2eS7d9G5KW",
        "colab_type": "text"
      },
      "source": [
        "\n",
        "1.   Top-10 palavras associadas aos Top-3 documentos da consulta \"presidente\""
      ]
    },
    {
      "cell_type": "code",
      "metadata": {
        "id": "dIDKNJKoHH_g",
        "colab_type": "code",
        "colab": {
          "base_uri": "https://localhost:8080/",
          "height": 359
        },
        "outputId": "9c8d1a4e-d25e-4d7f-b4b5-60f0982e72fa"
      },
      "source": [
        "tabela_dice_1 = pd.DataFrame()\n",
        "tabela_dice_1['Dice sem Documento por Vez'] = tabela_consulta_1['Dice']\n",
        "tabela_dice_1['Dice com Documento por Vez'] = tabela_top_1['Dice']\n",
        "tabela_dice_1"
      ],
      "execution_count": 17,
      "outputs": [
        {
          "output_type": "execute_result",
          "data": {
            "text/html": [
              "<div>\n",
              "<style scoped>\n",
              "    .dataframe tbody tr th:only-of-type {\n",
              "        vertical-align: middle;\n",
              "    }\n",
              "\n",
              "    .dataframe tbody tr th {\n",
              "        vertical-align: top;\n",
              "    }\n",
              "\n",
              "    .dataframe thead th {\n",
              "        text-align: right;\n",
              "    }\n",
              "</style>\n",
              "<table border=\"1\" class=\"dataframe\">\n",
              "  <thead>\n",
              "    <tr style=\"text-align: right;\">\n",
              "      <th></th>\n",
              "      <th>Dice sem Documento por Vez</th>\n",
              "      <th>Dice com Documento por Vez</th>\n",
              "    </tr>\n",
              "  </thead>\n",
              "  <tbody>\n",
              "    <tr>\n",
              "      <th>1</th>\n",
              "      <td>governo</td>\n",
              "      <td>pressionar</td>\n",
              "    </tr>\n",
              "    <tr>\n",
              "      <th>2</th>\n",
              "      <td>ser</td>\n",
              "      <td>povo</td>\n",
              "    </tr>\n",
              "    <tr>\n",
              "      <th>3</th>\n",
              "      <td>brasil</td>\n",
              "      <td>passado</td>\n",
              "    </tr>\n",
              "    <tr>\n",
              "      <th>4</th>\n",
              "      <td>sobre</td>\n",
              "      <td>outros</td>\n",
              "    </tr>\n",
              "    <tr>\n",
              "      <th>5</th>\n",
              "      <td>país</td>\n",
              "      <td>nacional</td>\n",
              "    </tr>\n",
              "    <tr>\n",
              "      <th>6</th>\n",
              "      <td>bolsonaro</td>\n",
              "      <td>mensagem</td>\n",
              "    </tr>\n",
              "    <tr>\n",
              "      <th>7</th>\n",
              "      <td>feira</td>\n",
              "      <td>jair</td>\n",
              "    </tr>\n",
              "    <tr>\n",
              "      <th>8</th>\n",
              "      <td>ainda</td>\n",
              "      <td>governo</td>\n",
              "    </tr>\n",
              "    <tr>\n",
              "      <th>9</th>\n",
              "      <td>disse</td>\n",
              "      <td>fez</td>\n",
              "    </tr>\n",
              "    <tr>\n",
              "      <th>10</th>\n",
              "      <td>segundo</td>\n",
              "      <td>disse</td>\n",
              "    </tr>\n",
              "  </tbody>\n",
              "</table>\n",
              "</div>"
            ],
            "text/plain": [
              "   Dice sem Documento por Vez Dice com Documento por Vez\n",
              "1                     governo                 pressionar\n",
              "2                         ser                       povo\n",
              "3                      brasil                    passado\n",
              "4                       sobre                     outros\n",
              "5                        país                   nacional\n",
              "6                   bolsonaro                   mensagem\n",
              "7                       feira                       jair\n",
              "8                       ainda                    governo\n",
              "9                       disse                        fez\n",
              "10                    segundo                      disse"
            ]
          },
          "metadata": {
            "tags": []
          },
          "execution_count": 17
        }
      ]
    },
    {
      "cell_type": "markdown",
      "metadata": {
        "id": "znHdOKsrIasR",
        "colab_type": "text"
      },
      "source": [
        "\n",
        "2.   Top-10 palavras associadas aos Top-3 documentos da consulta \"educação\"\n"
      ]
    },
    {
      "cell_type": "code",
      "metadata": {
        "id": "scBuGL_4IpNF",
        "colab_type": "code",
        "colab": {
          "base_uri": "https://localhost:8080/",
          "height": 359
        },
        "outputId": "28f6d10f-1b5a-4056-83f3-304cea6f77e3"
      },
      "source": [
        "tabela_dice_2 = pd.DataFrame()\n",
        "tabela_dice_2['Dice sem Documento por Vez'] = tabela_consulta_2['Dice']\n",
        "tabela_dice_2['Dice com Documento por Vez'] = tabela_top_2['Dice']\n",
        "tabela_dice_2"
      ],
      "execution_count": 18,
      "outputs": [
        {
          "output_type": "execute_result",
          "data": {
            "text/html": [
              "<div>\n",
              "<style scoped>\n",
              "    .dataframe tbody tr th:only-of-type {\n",
              "        vertical-align: middle;\n",
              "    }\n",
              "\n",
              "    .dataframe tbody tr th {\n",
              "        vertical-align: top;\n",
              "    }\n",
              "\n",
              "    .dataframe thead th {\n",
              "        text-align: right;\n",
              "    }\n",
              "</style>\n",
              "<table border=\"1\" class=\"dataframe\">\n",
              "  <thead>\n",
              "    <tr style=\"text-align: right;\">\n",
              "      <th></th>\n",
              "      <th>Dice sem Documento por Vez</th>\n",
              "      <th>Dice com Documento por Vez</th>\n",
              "    </tr>\n",
              "  </thead>\n",
              "  <tbody>\n",
              "    <tr>\n",
              "      <th>1</th>\n",
              "      <td>sociais</td>\n",
              "      <td>único</td>\n",
              "    </tr>\n",
              "    <tr>\n",
              "      <th>2</th>\n",
              "      <td>instituto</td>\n",
              "      <td>vida</td>\n",
              "    </tr>\n",
              "    <tr>\n",
              "      <th>3</th>\n",
              "      <td>redes</td>\n",
              "      <td>uso</td>\n",
              "    </tr>\n",
              "    <tr>\n",
              "      <th>4</th>\n",
              "      <td>ricardo</td>\n",
              "      <td>trabalho</td>\n",
              "    </tr>\n",
              "    <tr>\n",
              "      <th>5</th>\n",
              "      <td>violência</td>\n",
              "      <td>todas</td>\n",
              "    </tr>\n",
              "    <tr>\n",
              "      <th>6</th>\n",
              "      <td>culpa</td>\n",
              "      <td>ter</td>\n",
              "    </tr>\n",
              "    <tr>\n",
              "      <th>7</th>\n",
              "      <td>alunos</td>\n",
              "      <td>situação</td>\n",
              "    </tr>\n",
              "    <tr>\n",
              "      <th>8</th>\n",
              "      <td>constrangimento</td>\n",
              "      <td>sido</td>\n",
              "    </tr>\n",
              "    <tr>\n",
              "      <th>9</th>\n",
              "      <td>faz</td>\n",
              "      <td>ser</td>\n",
              "    </tr>\n",
              "    <tr>\n",
              "      <th>10</th>\n",
              "      <td>escolas</td>\n",
              "      <td>segundo</td>\n",
              "    </tr>\n",
              "  </tbody>\n",
              "</table>\n",
              "</div>"
            ],
            "text/plain": [
              "   Dice sem Documento por Vez Dice com Documento por Vez\n",
              "1                     sociais                      único\n",
              "2                   instituto                       vida\n",
              "3                       redes                        uso\n",
              "4                     ricardo                   trabalho\n",
              "5                   violência                      todas\n",
              "6                       culpa                        ter\n",
              "7                      alunos                   situação\n",
              "8             constrangimento                       sido\n",
              "9                         faz                        ser\n",
              "10                    escolas                    segundo"
            ]
          },
          "metadata": {
            "tags": []
          },
          "execution_count": 18
        }
      ]
    },
    {
      "cell_type": "markdown",
      "metadata": {
        "id": "n1-G2ZOQIu1g",
        "colab_type": "text"
      },
      "source": [
        "\n",
        "3.   Top-10 palavras associadas aos Top-3 documentos da consulta \"privatização\""
      ]
    },
    {
      "cell_type": "code",
      "metadata": {
        "id": "1CQtBn-yI4kl",
        "colab_type": "code",
        "colab": {
          "base_uri": "https://localhost:8080/",
          "height": 359
        },
        "outputId": "bb0a935d-fc6c-478c-9083-8e72ac92403f"
      },
      "source": [
        "tabela_dice_3 = pd.DataFrame()\n",
        "tabela_dice_3['Dice sem Documento por Vez'] = tabela_consulta_3['Dice']\n",
        "tabela_dice_3['Dice com Documento por Vez'] = tabela_top_3['Dice']\n",
        "tabela_dice_3"
      ],
      "execution_count": 19,
      "outputs": [
        {
          "output_type": "execute_result",
          "data": {
            "text/html": [
              "<div>\n",
              "<style scoped>\n",
              "    .dataframe tbody tr th:only-of-type {\n",
              "        vertical-align: middle;\n",
              "    }\n",
              "\n",
              "    .dataframe tbody tr th {\n",
              "        vertical-align: top;\n",
              "    }\n",
              "\n",
              "    .dataframe thead th {\n",
              "        text-align: right;\n",
              "    }\n",
              "</style>\n",
              "<table border=\"1\" class=\"dataframe\">\n",
              "  <thead>\n",
              "    <tr style=\"text-align: right;\">\n",
              "      <th></th>\n",
              "      <th>Dice sem Documento por Vez</th>\n",
              "      <th>Dice com Documento por Vez</th>\n",
              "    </tr>\n",
              "  </thead>\n",
              "  <tbody>\n",
              "    <tr>\n",
              "      <th>1</th>\n",
              "      <td>rentabilidade</td>\n",
              "      <td>empresas</td>\n",
              "    </tr>\n",
              "    <tr>\n",
              "      <th>2</th>\n",
              "      <td>juros</td>\n",
              "      <td>vida</td>\n",
              "    </tr>\n",
              "    <tr>\n",
              "      <th>3</th>\n",
              "      <td>externo</td>\n",
              "      <td>transição</td>\n",
              "    </tr>\n",
              "    <tr>\n",
              "      <th>4</th>\n",
              "      <td>melhora</td>\n",
              "      <td>trabalhador</td>\n",
              "    </tr>\n",
              "    <tr>\n",
              "      <th>5</th>\n",
              "      <td>consistente</td>\n",
              "      <td>taxa</td>\n",
              "    </tr>\n",
              "    <tr>\n",
              "      <th>6</th>\n",
              "      <td>beneficia</td>\n",
              "      <td>sustentar</td>\n",
              "    </tr>\n",
              "    <tr>\n",
              "      <th>7</th>\n",
              "      <td>aprofundamento</td>\n",
              "      <td>social</td>\n",
              "    </tr>\n",
              "    <tr>\n",
              "      <th>8</th>\n",
              "      <td>impostos</td>\n",
              "      <td>sobre</td>\n",
              "    </tr>\n",
              "    <tr>\n",
              "      <th>9</th>\n",
              "      <td>sustentar</td>\n",
              "      <td>sistema</td>\n",
              "    </tr>\n",
              "    <tr>\n",
              "      <th>10</th>\n",
              "      <td>pressões</td>\n",
              "      <td>setor</td>\n",
              "    </tr>\n",
              "  </tbody>\n",
              "</table>\n",
              "</div>"
            ],
            "text/plain": [
              "   Dice sem Documento por Vez Dice com Documento por Vez\n",
              "1               rentabilidade                   empresas\n",
              "2                       juros                       vida\n",
              "3                     externo                  transição\n",
              "4                     melhora                trabalhador\n",
              "5                 consistente                       taxa\n",
              "6                   beneficia                  sustentar\n",
              "7              aprofundamento                     social\n",
              "8                    impostos                      sobre\n",
              "9                   sustentar                    sistema\n",
              "10                   pressões                      setor"
            ]
          },
          "metadata": {
            "tags": []
          },
          "execution_count": 19
        }
      ]
    },
    {
      "cell_type": "markdown",
      "metadata": {
        "id": "TQNZNBnKI9kZ",
        "colab_type": "text"
      },
      "source": [
        "\n",
        "4.   Top-10 palavras associadas aos Top-3 documentos da consulta \"empresa\""
      ]
    },
    {
      "cell_type": "code",
      "metadata": {
        "id": "Y6LP5daRJJrP",
        "colab_type": "code",
        "colab": {
          "base_uri": "https://localhost:8080/",
          "height": 359
        },
        "outputId": "91f4d2b3-4fe6-43cc-9f9a-992c38f6de0d"
      },
      "source": [
        "tabela_dice_4 = pd.DataFrame()\n",
        "tabela_dice_4['Dice sem Documento por Vez'] = tabela_consulta_4['Dice']\n",
        "tabela_dice_4['Dice com Documento por Vez'] = tabela_top_4['Dice']\n",
        "tabela_dice_4"
      ],
      "execution_count": 20,
      "outputs": [
        {
          "output_type": "execute_result",
          "data": {
            "text/html": [
              "<div>\n",
              "<style scoped>\n",
              "    .dataframe tbody tr th:only-of-type {\n",
              "        vertical-align: middle;\n",
              "    }\n",
              "\n",
              "    .dataframe tbody tr th {\n",
              "        vertical-align: top;\n",
              "    }\n",
              "\n",
              "    .dataframe thead th {\n",
              "        text-align: right;\n",
              "    }\n",
              "</style>\n",
              "<table border=\"1\" class=\"dataframe\">\n",
              "  <thead>\n",
              "    <tr style=\"text-align: right;\">\n",
              "      <th></th>\n",
              "      <th>Dice sem Documento por Vez</th>\n",
              "      <th>Dice com Documento por Vez</th>\n",
              "    </tr>\n",
              "  </thead>\n",
              "  <tbody>\n",
              "    <tr>\n",
              "      <th>1</th>\n",
              "      <td>brasília</td>\n",
              "      <td>valor</td>\n",
              "    </tr>\n",
              "    <tr>\n",
              "      <th>2</th>\n",
              "      <td>empresas</td>\n",
              "      <td>vai</td>\n",
              "    </tr>\n",
              "    <tr>\n",
              "      <th>3</th>\n",
              "      <td>reais</td>\n",
              "      <td>setor</td>\n",
              "    </tr>\n",
              "    <tr>\n",
              "      <th>4</th>\n",
              "      <td>coronel</td>\n",
              "      <td>ser</td>\n",
              "    </tr>\n",
              "    <tr>\n",
              "      <th>5</th>\n",
              "      <td>área</td>\n",
              "      <td>presidente</td>\n",
              "    </tr>\n",
              "    <tr>\n",
              "      <th>6</th>\n",
              "      <td>duas</td>\n",
              "      <td>pediu</td>\n",
              "    </tr>\n",
              "    <tr>\n",
              "      <th>7</th>\n",
              "      <td>pagamento</td>\n",
              "      <td>parte</td>\n",
              "    </tr>\n",
              "    <tr>\n",
              "      <th>8</th>\n",
              "      <td>corrupção</td>\n",
              "      <td>nota</td>\n",
              "    </tr>\n",
              "    <tr>\n",
              "      <th>9</th>\n",
              "      <td>lima</td>\n",
              "      <td>feira</td>\n",
              "    </tr>\n",
              "    <tr>\n",
              "      <th>10</th>\n",
              "      <td>risco</td>\n",
              "      <td>duas</td>\n",
              "    </tr>\n",
              "  </tbody>\n",
              "</table>\n",
              "</div>"
            ],
            "text/plain": [
              "   Dice sem Documento por Vez Dice com Documento por Vez\n",
              "1                    brasília                      valor\n",
              "2                    empresas                        vai\n",
              "3                       reais                      setor\n",
              "4                     coronel                        ser\n",
              "5                        área                 presidente\n",
              "6                        duas                      pediu\n",
              "7                   pagamento                      parte\n",
              "8                   corrupção                       nota\n",
              "9                        lima                      feira\n",
              "10                      risco                       duas"
            ]
          },
          "metadata": {
            "tags": []
          },
          "execution_count": 20
        }
      ]
    },
    {
      "cell_type": "markdown",
      "metadata": {
        "id": "E5qRKYzOJGvS",
        "colab_type": "text"
      },
      "source": [
        "5.   Top-10 palavras associadas aos Top-3 documentos da consulta \"bolsonaro\""
      ]
    },
    {
      "cell_type": "code",
      "metadata": {
        "id": "DfWqF9nmJOtQ",
        "colab_type": "code",
        "colab": {
          "base_uri": "https://localhost:8080/",
          "height": 359
        },
        "outputId": "7e43cd3d-d4d5-4276-9732-a55d7ce204a0"
      },
      "source": [
        "tabela_dice_5 = pd.DataFrame()\n",
        "tabela_dice_5['Dice sem Documento por Vez'] = tabela_consulta_5['Dice']\n",
        "tabela_dice_5['Dice com Documento por Vez'] = tabela_top_5['Dice']\n",
        "tabela_dice_5"
      ],
      "execution_count": 21,
      "outputs": [
        {
          "output_type": "execute_result",
          "data": {
            "text/html": [
              "<div>\n",
              "<style scoped>\n",
              "    .dataframe tbody tr th:only-of-type {\n",
              "        vertical-align: middle;\n",
              "    }\n",
              "\n",
              "    .dataframe tbody tr th {\n",
              "        vertical-align: top;\n",
              "    }\n",
              "\n",
              "    .dataframe thead th {\n",
              "        text-align: right;\n",
              "    }\n",
              "</style>\n",
              "<table border=\"1\" class=\"dataframe\">\n",
              "  <thead>\n",
              "    <tr style=\"text-align: right;\">\n",
              "      <th></th>\n",
              "      <th>Dice sem Documento por Vez</th>\n",
              "      <th>Dice com Documento por Vez</th>\n",
              "    </tr>\n",
              "  </thead>\n",
              "  <tbody>\n",
              "    <tr>\n",
              "      <th>1</th>\n",
              "      <td>brasil</td>\n",
              "      <td>vai</td>\n",
              "    </tr>\n",
              "    <tr>\n",
              "      <th>2</th>\n",
              "      <td>jair</td>\n",
              "      <td>têm</td>\n",
              "    </tr>\n",
              "    <tr>\n",
              "      <th>3</th>\n",
              "      <td>presidente</td>\n",
              "      <td>tom</td>\n",
              "    </tr>\n",
              "    <tr>\n",
              "      <th>4</th>\n",
              "      <td>governo</td>\n",
              "      <td>todo</td>\n",
              "    </tr>\n",
              "    <tr>\n",
              "      <th>5</th>\n",
              "      <td>ser</td>\n",
              "      <td>tanto</td>\n",
              "    </tr>\n",
              "    <tr>\n",
              "      <th>6</th>\n",
              "      <td>ainda</td>\n",
              "      <td>sobre</td>\n",
              "    </tr>\n",
              "    <tr>\n",
              "      <th>7</th>\n",
              "      <td>disse</td>\n",
              "      <td>sido</td>\n",
              "    </tr>\n",
              "    <tr>\n",
              "      <th>8</th>\n",
              "      <td>sobre</td>\n",
              "      <td>ser</td>\n",
              "    </tr>\n",
              "    <tr>\n",
              "      <th>9</th>\n",
              "      <td>ter</td>\n",
              "      <td>sempre</td>\n",
              "    </tr>\n",
              "    <tr>\n",
              "      <th>10</th>\n",
              "      <td>diz</td>\n",
              "      <td>segundo</td>\n",
              "    </tr>\n",
              "  </tbody>\n",
              "</table>\n",
              "</div>"
            ],
            "text/plain": [
              "   Dice sem Documento por Vez Dice com Documento por Vez\n",
              "1                      brasil                        vai\n",
              "2                        jair                        têm\n",
              "3                  presidente                        tom\n",
              "4                     governo                       todo\n",
              "5                         ser                      tanto\n",
              "6                       ainda                      sobre\n",
              "7                       disse                       sido\n",
              "8                       sobre                        ser\n",
              "9                         ter                     sempre\n",
              "10                        diz                    segundo"
            ]
          },
          "metadata": {
            "tags": []
          },
          "execution_count": 21
        }
      ]
    },
    {
      "cell_type": "markdown",
      "metadata": {
        "id": "7bXBtM61JUyZ",
        "colab_type": "text"
      },
      "source": [
        "\n",
        "\n",
        "*   **Documentos Top 5**\n"
      ]
    },
    {
      "cell_type": "code",
      "metadata": {
        "id": "1gdSsEsqJi2l",
        "colab_type": "code",
        "colab": {}
      },
      "source": [
        "k = 5\n",
        "documentos_ranking_1 = expansaoConsulta(consultas[0], k)\n",
        "documentos_ranking_2 = expansaoConsulta(consultas[1], k)\n",
        "documentos_ranking_3 = expansaoConsulta(consultas[2], k)\n",
        "documentos_ranking_4 = expansaoConsulta(consultas[3], k)\n",
        "documentos_ranking_5 = expansaoConsulta(consultas[4], k)\n",
        "\n",
        "\n",
        "tabela_top_1 = criaTabela(consultas[0], documentos_ranking_1, k)\n",
        "tabela_top_2 = criaTabela(consultas[1], documentos_ranking_2, k)\n",
        "tabela_top_3 = criaTabela(consultas[2], documentos_ranking_3, k)\n",
        "tabela_top_4 = criaTabela(consultas[3], documentos_ranking_4, k)\n",
        "tabela_top_5 = criaTabela(consultas[4], documentos_ranking_5, k)"
      ],
      "execution_count": 0,
      "outputs": []
    },
    {
      "cell_type": "markdown",
      "metadata": {
        "id": "H_gw445HJl15",
        "colab_type": "text"
      },
      "source": [
        "\n",
        "1.   Top-10 palavras associadas aos Top-5 documentos da consulta \"presidente\""
      ]
    },
    {
      "cell_type": "code",
      "metadata": {
        "id": "GQjO4J8HJxG9",
        "colab_type": "code",
        "colab": {
          "base_uri": "https://localhost:8080/",
          "height": 359
        },
        "outputId": "8c1315c2-5193-4ca5-bcc2-f8da56ef48f5"
      },
      "source": [
        "tabela_dice_1 = pd.DataFrame()\n",
        "tabela_dice_1['Dice sem Documento por Vez'] = tabela_consulta_1['Dice']\n",
        "tabela_dice_1['Dice com Documento por Vez'] = tabela_top_1['Dice']\n",
        "tabela_dice_1"
      ],
      "execution_count": 23,
      "outputs": [
        {
          "output_type": "execute_result",
          "data": {
            "text/html": [
              "<div>\n",
              "<style scoped>\n",
              "    .dataframe tbody tr th:only-of-type {\n",
              "        vertical-align: middle;\n",
              "    }\n",
              "\n",
              "    .dataframe tbody tr th {\n",
              "        vertical-align: top;\n",
              "    }\n",
              "\n",
              "    .dataframe thead th {\n",
              "        text-align: right;\n",
              "    }\n",
              "</style>\n",
              "<table border=\"1\" class=\"dataframe\">\n",
              "  <thead>\n",
              "    <tr style=\"text-align: right;\">\n",
              "      <th></th>\n",
              "      <th>Dice sem Documento por Vez</th>\n",
              "      <th>Dice com Documento por Vez</th>\n",
              "    </tr>\n",
              "  </thead>\n",
              "  <tbody>\n",
              "    <tr>\n",
              "      <th>1</th>\n",
              "      <td>governo</td>\n",
              "      <td>outros</td>\n",
              "    </tr>\n",
              "    <tr>\n",
              "      <th>2</th>\n",
              "      <td>ser</td>\n",
              "      <td>governo</td>\n",
              "    </tr>\n",
              "    <tr>\n",
              "      <th>3</th>\n",
              "      <td>brasil</td>\n",
              "      <td>fez</td>\n",
              "    </tr>\n",
              "    <tr>\n",
              "      <th>4</th>\n",
              "      <td>sobre</td>\n",
              "      <td>disse</td>\n",
              "    </tr>\n",
              "    <tr>\n",
              "      <th>5</th>\n",
              "      <td>país</td>\n",
              "      <td>bolsonaro</td>\n",
              "    </tr>\n",
              "    <tr>\n",
              "      <th>6</th>\n",
              "      <td>bolsonaro</td>\n",
              "      <td>ainda</td>\n",
              "    </tr>\n",
              "    <tr>\n",
              "      <th>7</th>\n",
              "      <td>feira</td>\n",
              "      <td>venezuela</td>\n",
              "    </tr>\n",
              "    <tr>\n",
              "      <th>8</th>\n",
              "      <td>ainda</td>\n",
              "      <td>ter</td>\n",
              "    </tr>\n",
              "    <tr>\n",
              "      <th>9</th>\n",
              "      <td>disse</td>\n",
              "      <td>presidência</td>\n",
              "    </tr>\n",
              "    <tr>\n",
              "      <th>10</th>\n",
              "      <td>segundo</td>\n",
              "      <td>povo</td>\n",
              "    </tr>\n",
              "  </tbody>\n",
              "</table>\n",
              "</div>"
            ],
            "text/plain": [
              "   Dice sem Documento por Vez Dice com Documento por Vez\n",
              "1                     governo                     outros\n",
              "2                         ser                    governo\n",
              "3                      brasil                        fez\n",
              "4                       sobre                      disse\n",
              "5                        país                  bolsonaro\n",
              "6                   bolsonaro                      ainda\n",
              "7                       feira                  venezuela\n",
              "8                       ainda                        ter\n",
              "9                       disse                presidência\n",
              "10                    segundo                       povo"
            ]
          },
          "metadata": {
            "tags": []
          },
          "execution_count": 23
        }
      ]
    },
    {
      "cell_type": "markdown",
      "metadata": {
        "id": "qa9vDj3vJ7iY",
        "colab_type": "text"
      },
      "source": [
        "\n",
        "2.   Top-10 palavras associadas aos Top-5 documentos da consulta \"educação\""
      ]
    },
    {
      "cell_type": "code",
      "metadata": {
        "id": "vrHfwEqJKGGE",
        "colab_type": "code",
        "colab": {
          "base_uri": "https://localhost:8080/",
          "height": 359
        },
        "outputId": "07324d1d-b4b6-4557-b3db-f0a2273c37d5"
      },
      "source": [
        "tabela_dice_2 = pd.DataFrame()\n",
        "tabela_dice_2['Dice sem Documento por Vez'] = tabela_consulta_2['Dice']\n",
        "tabela_dice_2['Dice com Documento por Vez'] = tabela_top_2['Dice']\n",
        "tabela_dice_2"
      ],
      "execution_count": 24,
      "outputs": [
        {
          "output_type": "execute_result",
          "data": {
            "text/html": [
              "<div>\n",
              "<style scoped>\n",
              "    .dataframe tbody tr th:only-of-type {\n",
              "        vertical-align: middle;\n",
              "    }\n",
              "\n",
              "    .dataframe tbody tr th {\n",
              "        vertical-align: top;\n",
              "    }\n",
              "\n",
              "    .dataframe thead th {\n",
              "        text-align: right;\n",
              "    }\n",
              "</style>\n",
              "<table border=\"1\" class=\"dataframe\">\n",
              "  <thead>\n",
              "    <tr style=\"text-align: right;\">\n",
              "      <th></th>\n",
              "      <th>Dice sem Documento por Vez</th>\n",
              "      <th>Dice com Documento por Vez</th>\n",
              "    </tr>\n",
              "  </thead>\n",
              "  <tbody>\n",
              "    <tr>\n",
              "      <th>1</th>\n",
              "      <td>sociais</td>\n",
              "      <td>trabalho</td>\n",
              "    </tr>\n",
              "    <tr>\n",
              "      <th>2</th>\n",
              "      <td>instituto</td>\n",
              "      <td>todas</td>\n",
              "    </tr>\n",
              "    <tr>\n",
              "      <th>3</th>\n",
              "      <td>redes</td>\n",
              "      <td>ter</td>\n",
              "    </tr>\n",
              "    <tr>\n",
              "      <th>4</th>\n",
              "      <td>ricardo</td>\n",
              "      <td>segundo</td>\n",
              "    </tr>\n",
              "    <tr>\n",
              "      <th>5</th>\n",
              "      <td>violência</td>\n",
              "      <td>ricardo</td>\n",
              "    </tr>\n",
              "    <tr>\n",
              "      <th>6</th>\n",
              "      <td>culpa</td>\n",
              "      <td>ministério</td>\n",
              "    </tr>\n",
              "    <tr>\n",
              "      <th>7</th>\n",
              "      <td>alunos</td>\n",
              "      <td>ministro</td>\n",
              "    </tr>\n",
              "    <tr>\n",
              "      <th>8</th>\n",
              "      <td>constrangimento</td>\n",
              "      <td>menos</td>\n",
              "    </tr>\n",
              "    <tr>\n",
              "      <th>9</th>\n",
              "      <td>faz</td>\n",
              "      <td>maior</td>\n",
              "    </tr>\n",
              "    <tr>\n",
              "      <th>10</th>\n",
              "      <td>escolas</td>\n",
              "      <td>família</td>\n",
              "    </tr>\n",
              "  </tbody>\n",
              "</table>\n",
              "</div>"
            ],
            "text/plain": [
              "   Dice sem Documento por Vez Dice com Documento por Vez\n",
              "1                     sociais                   trabalho\n",
              "2                   instituto                      todas\n",
              "3                       redes                        ter\n",
              "4                     ricardo                    segundo\n",
              "5                   violência                    ricardo\n",
              "6                       culpa                 ministério\n",
              "7                      alunos                   ministro\n",
              "8             constrangimento                      menos\n",
              "9                         faz                      maior\n",
              "10                    escolas                    família"
            ]
          },
          "metadata": {
            "tags": []
          },
          "execution_count": 24
        }
      ]
    },
    {
      "cell_type": "markdown",
      "metadata": {
        "id": "0GKoWE2AKJ3_",
        "colab_type": "text"
      },
      "source": [
        "\n",
        "3.   Top-10 palavras associadas aos Top-5 documentos da consulta \"privatização\"\n",
        "\n"
      ]
    },
    {
      "cell_type": "code",
      "metadata": {
        "id": "n3rqaP5BKQWp",
        "colab_type": "code",
        "colab": {
          "base_uri": "https://localhost:8080/",
          "height": 359
        },
        "outputId": "781ef561-5f8f-4d57-91dc-ed8ae806c8d5"
      },
      "source": [
        "tabela_dice_3 = pd.DataFrame()\n",
        "tabela_dice_3['Dice sem Documento por Vez'] = tabela_consulta_3['Dice']\n",
        "tabela_dice_3['Dice com Documento por Vez'] = tabela_top_3['Dice']\n",
        "tabela_dice_3"
      ],
      "execution_count": 25,
      "outputs": [
        {
          "output_type": "execute_result",
          "data": {
            "text/html": [
              "<div>\n",
              "<style scoped>\n",
              "    .dataframe tbody tr th:only-of-type {\n",
              "        vertical-align: middle;\n",
              "    }\n",
              "\n",
              "    .dataframe tbody tr th {\n",
              "        vertical-align: top;\n",
              "    }\n",
              "\n",
              "    .dataframe thead th {\n",
              "        text-align: right;\n",
              "    }\n",
              "</style>\n",
              "<table border=\"1\" class=\"dataframe\">\n",
              "  <thead>\n",
              "    <tr style=\"text-align: right;\">\n",
              "      <th></th>\n",
              "      <th>Dice sem Documento por Vez</th>\n",
              "      <th>Dice com Documento por Vez</th>\n",
              "    </tr>\n",
              "  </thead>\n",
              "  <tbody>\n",
              "    <tr>\n",
              "      <th>1</th>\n",
              "      <td>rentabilidade</td>\n",
              "      <td>ser</td>\n",
              "    </tr>\n",
              "    <tr>\n",
              "      <th>2</th>\n",
              "      <td>juros</td>\n",
              "      <td>reforma</td>\n",
              "    </tr>\n",
              "    <tr>\n",
              "      <th>3</th>\n",
              "      <td>externo</td>\n",
              "      <td>governo</td>\n",
              "    </tr>\n",
              "    <tr>\n",
              "      <th>4</th>\n",
              "      <td>melhora</td>\n",
              "      <td>social</td>\n",
              "    </tr>\n",
              "    <tr>\n",
              "      <th>5</th>\n",
              "      <td>consistente</td>\n",
              "      <td>setor</td>\n",
              "    </tr>\n",
              "    <tr>\n",
              "      <th>6</th>\n",
              "      <td>beneficia</td>\n",
              "      <td>serviços</td>\n",
              "    </tr>\n",
              "    <tr>\n",
              "      <th>7</th>\n",
              "      <td>aprofundamento</td>\n",
              "      <td>segundo</td>\n",
              "    </tr>\n",
              "    <tr>\n",
              "      <th>8</th>\n",
              "      <td>impostos</td>\n",
              "      <td>redução</td>\n",
              "    </tr>\n",
              "    <tr>\n",
              "      <th>9</th>\n",
              "      <td>sustentar</td>\n",
              "      <td>público</td>\n",
              "    </tr>\n",
              "    <tr>\n",
              "      <th>10</th>\n",
              "      <td>pressões</td>\n",
              "      <td>outro</td>\n",
              "    </tr>\n",
              "  </tbody>\n",
              "</table>\n",
              "</div>"
            ],
            "text/plain": [
              "   Dice sem Documento por Vez Dice com Documento por Vez\n",
              "1               rentabilidade                        ser\n",
              "2                       juros                    reforma\n",
              "3                     externo                    governo\n",
              "4                     melhora                     social\n",
              "5                 consistente                      setor\n",
              "6                   beneficia                   serviços\n",
              "7              aprofundamento                    segundo\n",
              "8                    impostos                    redução\n",
              "9                   sustentar                    público\n",
              "10                   pressões                      outro"
            ]
          },
          "metadata": {
            "tags": []
          },
          "execution_count": 25
        }
      ]
    },
    {
      "cell_type": "markdown",
      "metadata": {
        "id": "Bs5CRhyhKT4R",
        "colab_type": "text"
      },
      "source": [
        "4.   Top-10 palavras associadas aos Top-5 documentos da consulta \"empresa\"\n"
      ]
    },
    {
      "cell_type": "code",
      "metadata": {
        "id": "rdeWY0NWKZbA",
        "colab_type": "code",
        "colab": {
          "base_uri": "https://localhost:8080/",
          "height": 359
        },
        "outputId": "85b129b4-b782-412c-dd4a-4df1abd678ef"
      },
      "source": [
        "tabela_dice_4 = pd.DataFrame()\n",
        "tabela_dice_4['Dice sem Documento por Vez'] = tabela_consulta_4['Dice']\n",
        "tabela_dice_4['Dice com Documento por Vez'] = tabela_top_4['Dice']\n",
        "tabela_dice_4"
      ],
      "execution_count": 26,
      "outputs": [
        {
          "output_type": "execute_result",
          "data": {
            "text/html": [
              "<div>\n",
              "<style scoped>\n",
              "    .dataframe tbody tr th:only-of-type {\n",
              "        vertical-align: middle;\n",
              "    }\n",
              "\n",
              "    .dataframe tbody tr th {\n",
              "        vertical-align: top;\n",
              "    }\n",
              "\n",
              "    .dataframe thead th {\n",
              "        text-align: right;\n",
              "    }\n",
              "</style>\n",
              "<table border=\"1\" class=\"dataframe\">\n",
              "  <thead>\n",
              "    <tr style=\"text-align: right;\">\n",
              "      <th></th>\n",
              "      <th>Dice sem Documento por Vez</th>\n",
              "      <th>Dice com Documento por Vez</th>\n",
              "    </tr>\n",
              "  </thead>\n",
              "  <tbody>\n",
              "    <tr>\n",
              "      <th>1</th>\n",
              "      <td>brasília</td>\n",
              "      <td>setor</td>\n",
              "    </tr>\n",
              "    <tr>\n",
              "      <th>2</th>\n",
              "      <td>empresas</td>\n",
              "      <td>ser</td>\n",
              "    </tr>\n",
              "    <tr>\n",
              "      <th>3</th>\n",
              "      <td>reais</td>\n",
              "      <td>presidente</td>\n",
              "    </tr>\n",
              "    <tr>\n",
              "      <th>4</th>\n",
              "      <td>coronel</td>\n",
              "      <td>parte</td>\n",
              "    </tr>\n",
              "    <tr>\n",
              "      <th>5</th>\n",
              "      <td>área</td>\n",
              "      <td>duas</td>\n",
              "    </tr>\n",
              "    <tr>\n",
              "      <th>6</th>\n",
              "      <td>duas</td>\n",
              "      <td>após</td>\n",
              "    </tr>\n",
              "    <tr>\n",
              "      <th>7</th>\n",
              "      <td>pagamento</td>\n",
              "      <td>valores</td>\n",
              "    </tr>\n",
              "    <tr>\n",
              "      <th>8</th>\n",
              "      <td>corrupção</td>\n",
              "      <td>valor</td>\n",
              "    </tr>\n",
              "    <tr>\n",
              "      <th>9</th>\n",
              "      <td>lima</td>\n",
              "      <td>sob</td>\n",
              "    </tr>\n",
              "    <tr>\n",
              "      <th>10</th>\n",
              "      <td>risco</td>\n",
              "      <td>segundo</td>\n",
              "    </tr>\n",
              "  </tbody>\n",
              "</table>\n",
              "</div>"
            ],
            "text/plain": [
              "   Dice sem Documento por Vez Dice com Documento por Vez\n",
              "1                    brasília                      setor\n",
              "2                    empresas                        ser\n",
              "3                       reais                 presidente\n",
              "4                     coronel                      parte\n",
              "5                        área                       duas\n",
              "6                        duas                       após\n",
              "7                   pagamento                    valores\n",
              "8                   corrupção                      valor\n",
              "9                        lima                        sob\n",
              "10                      risco                    segundo"
            ]
          },
          "metadata": {
            "tags": []
          },
          "execution_count": 26
        }
      ]
    },
    {
      "cell_type": "markdown",
      "metadata": {
        "id": "r5QkJP-TKdDy",
        "colab_type": "text"
      },
      "source": [
        "5.   Top-10 palavras associadas aos Top-5 documentos da consulta \"bolsonaro\"\n"
      ]
    },
    {
      "cell_type": "code",
      "metadata": {
        "id": "ASIJLq3pKi9o",
        "colab_type": "code",
        "colab": {
          "base_uri": "https://localhost:8080/",
          "height": 359
        },
        "outputId": "ee3a4a3d-83fa-407d-a87e-791d7aba5aa2"
      },
      "source": [
        "tabela_dice_5 = pd.DataFrame()\n",
        "tabela_dice_5['Dice sem Documento por Vez'] = tabela_consulta_5['Dice']\n",
        "tabela_dice_5['Dice com Documento por Vez'] = tabela_top_5['Dice']\n",
        "tabela_dice_5"
      ],
      "execution_count": 27,
      "outputs": [
        {
          "output_type": "execute_result",
          "data": {
            "text/html": [
              "<div>\n",
              "<style scoped>\n",
              "    .dataframe tbody tr th:only-of-type {\n",
              "        vertical-align: middle;\n",
              "    }\n",
              "\n",
              "    .dataframe tbody tr th {\n",
              "        vertical-align: top;\n",
              "    }\n",
              "\n",
              "    .dataframe thead th {\n",
              "        text-align: right;\n",
              "    }\n",
              "</style>\n",
              "<table border=\"1\" class=\"dataframe\">\n",
              "  <thead>\n",
              "    <tr style=\"text-align: right;\">\n",
              "      <th></th>\n",
              "      <th>Dice sem Documento por Vez</th>\n",
              "      <th>Dice com Documento por Vez</th>\n",
              "    </tr>\n",
              "  </thead>\n",
              "  <tbody>\n",
              "    <tr>\n",
              "      <th>1</th>\n",
              "      <td>brasil</td>\n",
              "      <td>vai</td>\n",
              "    </tr>\n",
              "    <tr>\n",
              "      <th>2</th>\n",
              "      <td>jair</td>\n",
              "      <td>sobre</td>\n",
              "    </tr>\n",
              "    <tr>\n",
              "      <th>3</th>\n",
              "      <td>presidente</td>\n",
              "      <td>ser</td>\n",
              "    </tr>\n",
              "    <tr>\n",
              "      <th>4</th>\n",
              "      <td>governo</td>\n",
              "      <td>segundo</td>\n",
              "    </tr>\n",
              "    <tr>\n",
              "      <th>5</th>\n",
              "      <td>ser</td>\n",
              "      <td>presidente</td>\n",
              "    </tr>\n",
              "    <tr>\n",
              "      <th>6</th>\n",
              "      <td>ainda</td>\n",
              "      <td>nada</td>\n",
              "    </tr>\n",
              "    <tr>\n",
              "      <th>7</th>\n",
              "      <td>disse</td>\n",
              "      <td>flávio</td>\n",
              "    </tr>\n",
              "    <tr>\n",
              "      <th>8</th>\n",
              "      <td>sobre</td>\n",
              "      <td>fazer</td>\n",
              "    </tr>\n",
              "    <tr>\n",
              "      <th>9</th>\n",
              "      <td>ter</td>\n",
              "      <td>disse</td>\n",
              "    </tr>\n",
              "    <tr>\n",
              "      <th>10</th>\n",
              "      <td>diz</td>\n",
              "      <td>deputado</td>\n",
              "    </tr>\n",
              "  </tbody>\n",
              "</table>\n",
              "</div>"
            ],
            "text/plain": [
              "   Dice sem Documento por Vez Dice com Documento por Vez\n",
              "1                      brasil                        vai\n",
              "2                        jair                      sobre\n",
              "3                  presidente                        ser\n",
              "4                     governo                    segundo\n",
              "5                         ser                 presidente\n",
              "6                       ainda                       nada\n",
              "7                       disse                     flávio\n",
              "8                       sobre                      fazer\n",
              "9                         ter                      disse\n",
              "10                        diz                   deputado"
            ]
          },
          "metadata": {
            "tags": []
          },
          "execution_count": 27
        }
      ]
    },
    {
      "cell_type": "markdown",
      "metadata": {
        "id": "QDshw4M_KmYx",
        "colab_type": "text"
      },
      "source": [
        "\n",
        "\n",
        "*   **Documentos Top 10**"
      ]
    },
    {
      "cell_type": "code",
      "metadata": {
        "id": "6BUrPfcjKr6v",
        "colab_type": "code",
        "colab": {}
      },
      "source": [
        "k = 10\n",
        "documentos_ranking_1 = expansaoConsulta(consultas[0], k)\n",
        "documentos_ranking_2 = expansaoConsulta(consultas[1], k)\n",
        "documentos_ranking_3 = expansaoConsulta(consultas[2], k)\n",
        "documentos_ranking_4 = expansaoConsulta(consultas[3], k)\n",
        "documentos_ranking_5 = expansaoConsulta(consultas[4], k)\n",
        "\n",
        "\n",
        "tabela_top_1 = criaTabela(consultas[0], documentos_ranking_1, k)\n",
        "tabela_top_2 = criaTabela(consultas[1], documentos_ranking_2, k)\n",
        "tabela_top_3 = criaTabela(consultas[2], documentos_ranking_3, k)\n",
        "tabela_top_4 = criaTabela(consultas[3], documentos_ranking_4, k)\n",
        "tabela_top_5 = criaTabela(consultas[4], documentos_ranking_5, k)"
      ],
      "execution_count": 0,
      "outputs": []
    },
    {
      "cell_type": "markdown",
      "metadata": {
        "id": "eLCgZ3RWKu4a",
        "colab_type": "text"
      },
      "source": [
        "\n",
        "1.   Top-10 palavras associadas aos Top-10 documentos da consulta \"presidente\"\n"
      ]
    },
    {
      "cell_type": "code",
      "metadata": {
        "id": "f6_1w9TaK1-9",
        "colab_type": "code",
        "colab": {
          "base_uri": "https://localhost:8080/",
          "height": 359
        },
        "outputId": "de3e99fc-2bb3-42bf-f996-d55ea363cea3"
      },
      "source": [
        "tabela_dice_1 = pd.DataFrame()\n",
        "tabela_dice_1['Dice sem Documento por Vez'] = tabela_consulta_1['Dice']\n",
        "tabela_dice_1['Dice com Documento por Vez'] = tabela_top_1['Dice']\n",
        "tabela_dice_1"
      ],
      "execution_count": 29,
      "outputs": [
        {
          "output_type": "execute_result",
          "data": {
            "text/html": [
              "<div>\n",
              "<style scoped>\n",
              "    .dataframe tbody tr th:only-of-type {\n",
              "        vertical-align: middle;\n",
              "    }\n",
              "\n",
              "    .dataframe tbody tr th {\n",
              "        vertical-align: top;\n",
              "    }\n",
              "\n",
              "    .dataframe thead th {\n",
              "        text-align: right;\n",
              "    }\n",
              "</style>\n",
              "<table border=\"1\" class=\"dataframe\">\n",
              "  <thead>\n",
              "    <tr style=\"text-align: right;\">\n",
              "      <th></th>\n",
              "      <th>Dice sem Documento por Vez</th>\n",
              "      <th>Dice com Documento por Vez</th>\n",
              "    </tr>\n",
              "  </thead>\n",
              "  <tbody>\n",
              "    <tr>\n",
              "      <th>1</th>\n",
              "      <td>governo</td>\n",
              "      <td>bolsonaro</td>\n",
              "    </tr>\n",
              "    <tr>\n",
              "      <th>2</th>\n",
              "      <td>ser</td>\n",
              "      <td>nacional</td>\n",
              "    </tr>\n",
              "    <tr>\n",
              "      <th>3</th>\n",
              "      <td>brasil</td>\n",
              "      <td>brasil</td>\n",
              "    </tr>\n",
              "    <tr>\n",
              "      <th>4</th>\n",
              "      <td>sobre</td>\n",
              "      <td>ainda</td>\n",
              "    </tr>\n",
              "    <tr>\n",
              "      <th>5</th>\n",
              "      <td>país</td>\n",
              "      <td>parte</td>\n",
              "    </tr>\n",
              "    <tr>\n",
              "      <th>6</th>\n",
              "      <td>bolsonaro</td>\n",
              "      <td>outros</td>\n",
              "    </tr>\n",
              "    <tr>\n",
              "      <th>7</th>\n",
              "      <td>feira</td>\n",
              "      <td>grande</td>\n",
              "    </tr>\n",
              "    <tr>\n",
              "      <th>8</th>\n",
              "      <td>ainda</td>\n",
              "      <td>governo</td>\n",
              "    </tr>\n",
              "    <tr>\n",
              "      <th>9</th>\n",
              "      <td>disse</td>\n",
              "      <td>fez</td>\n",
              "    </tr>\n",
              "    <tr>\n",
              "      <th>10</th>\n",
              "      <td>segundo</td>\n",
              "      <td>disse</td>\n",
              "    </tr>\n",
              "  </tbody>\n",
              "</table>\n",
              "</div>"
            ],
            "text/plain": [
              "   Dice sem Documento por Vez Dice com Documento por Vez\n",
              "1                     governo                  bolsonaro\n",
              "2                         ser                   nacional\n",
              "3                      brasil                     brasil\n",
              "4                       sobre                      ainda\n",
              "5                        país                      parte\n",
              "6                   bolsonaro                     outros\n",
              "7                       feira                     grande\n",
              "8                       ainda                    governo\n",
              "9                       disse                        fez\n",
              "10                    segundo                      disse"
            ]
          },
          "metadata": {
            "tags": []
          },
          "execution_count": 29
        }
      ]
    },
    {
      "cell_type": "markdown",
      "metadata": {
        "id": "PpwLJHI-K6bq",
        "colab_type": "text"
      },
      "source": [
        "\n",
        "2.   Top-10 palavras associadas aos Top-10 documentos da consulta \"educação\""
      ]
    },
    {
      "cell_type": "code",
      "metadata": {
        "id": "AakyWPRhLB7l",
        "colab_type": "code",
        "colab": {
          "base_uri": "https://localhost:8080/",
          "height": 359
        },
        "outputId": "18b0e5c9-04d3-4e3e-b470-438444d8bfdc"
      },
      "source": [
        "tabela_dice_2 = pd.DataFrame()\n",
        "tabela_dice_2['Dice sem Documento por Vez'] = tabela_consulta_2['Dice']\n",
        "tabela_dice_2['Dice com Documento por Vez'] = tabela_top_2['Dice']\n",
        "tabela_dice_2"
      ],
      "execution_count": 30,
      "outputs": [
        {
          "output_type": "execute_result",
          "data": {
            "text/html": [
              "<div>\n",
              "<style scoped>\n",
              "    .dataframe tbody tr th:only-of-type {\n",
              "        vertical-align: middle;\n",
              "    }\n",
              "\n",
              "    .dataframe tbody tr th {\n",
              "        vertical-align: top;\n",
              "    }\n",
              "\n",
              "    .dataframe thead th {\n",
              "        text-align: right;\n",
              "    }\n",
              "</style>\n",
              "<table border=\"1\" class=\"dataframe\">\n",
              "  <thead>\n",
              "    <tr style=\"text-align: right;\">\n",
              "      <th></th>\n",
              "      <th>Dice sem Documento por Vez</th>\n",
              "      <th>Dice com Documento por Vez</th>\n",
              "    </tr>\n",
              "  </thead>\n",
              "  <tbody>\n",
              "    <tr>\n",
              "      <th>1</th>\n",
              "      <td>sociais</td>\n",
              "      <td>ser</td>\n",
              "    </tr>\n",
              "    <tr>\n",
              "      <th>2</th>\n",
              "      <td>instituto</td>\n",
              "      <td>segundo</td>\n",
              "    </tr>\n",
              "    <tr>\n",
              "      <th>3</th>\n",
              "      <td>redes</td>\n",
              "      <td>menos</td>\n",
              "    </tr>\n",
              "    <tr>\n",
              "      <th>4</th>\n",
              "      <td>ricardo</td>\n",
              "      <td>bolsonaro</td>\n",
              "    </tr>\n",
              "    <tr>\n",
              "      <th>5</th>\n",
              "      <td>violência</td>\n",
              "      <td>ano</td>\n",
              "    </tr>\n",
              "    <tr>\n",
              "      <th>6</th>\n",
              "      <td>culpa</td>\n",
              "      <td>ainda</td>\n",
              "    </tr>\n",
              "    <tr>\n",
              "      <th>7</th>\n",
              "      <td>alunos</td>\n",
              "      <td>violência</td>\n",
              "    </tr>\n",
              "    <tr>\n",
              "      <th>8</th>\n",
              "      <td>constrangimento</td>\n",
              "      <td>ter</td>\n",
              "    </tr>\n",
              "    <tr>\n",
              "      <th>9</th>\n",
              "      <td>faz</td>\n",
              "      <td>sociais</td>\n",
              "    </tr>\n",
              "    <tr>\n",
              "      <th>10</th>\n",
              "      <td>escolas</td>\n",
              "      <td>onde</td>\n",
              "    </tr>\n",
              "  </tbody>\n",
              "</table>\n",
              "</div>"
            ],
            "text/plain": [
              "   Dice sem Documento por Vez Dice com Documento por Vez\n",
              "1                     sociais                        ser\n",
              "2                   instituto                    segundo\n",
              "3                       redes                      menos\n",
              "4                     ricardo                  bolsonaro\n",
              "5                   violência                        ano\n",
              "6                       culpa                      ainda\n",
              "7                      alunos                  violência\n",
              "8             constrangimento                        ter\n",
              "9                         faz                    sociais\n",
              "10                    escolas                       onde"
            ]
          },
          "metadata": {
            "tags": []
          },
          "execution_count": 30
        }
      ]
    },
    {
      "cell_type": "markdown",
      "metadata": {
        "id": "nZL4U8VkLFy9",
        "colab_type": "text"
      },
      "source": [
        "3.   Top-10 palavras associadas aos Top-10 documentos da consulta \"privatização\""
      ]
    },
    {
      "cell_type": "code",
      "metadata": {
        "id": "y8Y_Qpi2LM9_",
        "colab_type": "code",
        "colab": {
          "base_uri": "https://localhost:8080/",
          "height": 359
        },
        "outputId": "933918e7-a388-4cf5-fb3a-888db29bc577"
      },
      "source": [
        "tabela_dice_3 = pd.DataFrame()\n",
        "tabela_dice_3['Dice sem Documento por Vez'] = tabela_consulta_3['Dice']\n",
        "tabela_dice_3['Dice com Documento por Vez'] = tabela_top_3['Dice']\n",
        "tabela_dice_3"
      ],
      "execution_count": 31,
      "outputs": [
        {
          "output_type": "execute_result",
          "data": {
            "text/html": [
              "<div>\n",
              "<style scoped>\n",
              "    .dataframe tbody tr th:only-of-type {\n",
              "        vertical-align: middle;\n",
              "    }\n",
              "\n",
              "    .dataframe tbody tr th {\n",
              "        vertical-align: top;\n",
              "    }\n",
              "\n",
              "    .dataframe thead th {\n",
              "        text-align: right;\n",
              "    }\n",
              "</style>\n",
              "<table border=\"1\" class=\"dataframe\">\n",
              "  <thead>\n",
              "    <tr style=\"text-align: right;\">\n",
              "      <th></th>\n",
              "      <th>Dice sem Documento por Vez</th>\n",
              "      <th>Dice com Documento por Vez</th>\n",
              "    </tr>\n",
              "  </thead>\n",
              "  <tbody>\n",
              "    <tr>\n",
              "      <th>1</th>\n",
              "      <td>rentabilidade</td>\n",
              "      <td>ser</td>\n",
              "    </tr>\n",
              "    <tr>\n",
              "      <th>2</th>\n",
              "      <td>juros</td>\n",
              "      <td>reforma</td>\n",
              "    </tr>\n",
              "    <tr>\n",
              "      <th>3</th>\n",
              "      <td>externo</td>\n",
              "      <td>governo</td>\n",
              "    </tr>\n",
              "    <tr>\n",
              "      <th>4</th>\n",
              "      <td>melhora</td>\n",
              "      <td>social</td>\n",
              "    </tr>\n",
              "    <tr>\n",
              "      <th>5</th>\n",
              "      <td>consistente</td>\n",
              "      <td>setor</td>\n",
              "    </tr>\n",
              "    <tr>\n",
              "      <th>6</th>\n",
              "      <td>beneficia</td>\n",
              "      <td>serviços</td>\n",
              "    </tr>\n",
              "    <tr>\n",
              "      <th>7</th>\n",
              "      <td>aprofundamento</td>\n",
              "      <td>segundo</td>\n",
              "    </tr>\n",
              "    <tr>\n",
              "      <th>8</th>\n",
              "      <td>impostos</td>\n",
              "      <td>redução</td>\n",
              "    </tr>\n",
              "    <tr>\n",
              "      <th>9</th>\n",
              "      <td>sustentar</td>\n",
              "      <td>público</td>\n",
              "    </tr>\n",
              "    <tr>\n",
              "      <th>10</th>\n",
              "      <td>pressões</td>\n",
              "      <td>outro</td>\n",
              "    </tr>\n",
              "  </tbody>\n",
              "</table>\n",
              "</div>"
            ],
            "text/plain": [
              "   Dice sem Documento por Vez Dice com Documento por Vez\n",
              "1               rentabilidade                        ser\n",
              "2                       juros                    reforma\n",
              "3                     externo                    governo\n",
              "4                     melhora                     social\n",
              "5                 consistente                      setor\n",
              "6                   beneficia                   serviços\n",
              "7              aprofundamento                    segundo\n",
              "8                    impostos                    redução\n",
              "9                   sustentar                    público\n",
              "10                   pressões                      outro"
            ]
          },
          "metadata": {
            "tags": []
          },
          "execution_count": 31
        }
      ]
    },
    {
      "cell_type": "markdown",
      "metadata": {
        "id": "SIH-lu9vLQmk",
        "colab_type": "text"
      },
      "source": [
        "4.   Top-10 palavras associadas aos Top-10 documentos da consulta \"empresa\""
      ]
    },
    {
      "cell_type": "code",
      "metadata": {
        "id": "vsE6GtZgLV1v",
        "colab_type": "code",
        "colab": {
          "base_uri": "https://localhost:8080/",
          "height": 359
        },
        "outputId": "a1f6f6d1-be2d-48d6-fb95-2e76610b38ac"
      },
      "source": [
        "tabela_dice_4 = pd.DataFrame()\n",
        "tabela_dice_4['Dice sem Documento por Vez'] = tabela_consulta_4['Dice']\n",
        "tabela_dice_4['Dice com Documento por Vez'] = tabela_top_4['Dice']\n",
        "tabela_dice_4"
      ],
      "execution_count": 32,
      "outputs": [
        {
          "output_type": "execute_result",
          "data": {
            "text/html": [
              "<div>\n",
              "<style scoped>\n",
              "    .dataframe tbody tr th:only-of-type {\n",
              "        vertical-align: middle;\n",
              "    }\n",
              "\n",
              "    .dataframe tbody tr th {\n",
              "        vertical-align: top;\n",
              "    }\n",
              "\n",
              "    .dataframe thead th {\n",
              "        text-align: right;\n",
              "    }\n",
              "</style>\n",
              "<table border=\"1\" class=\"dataframe\">\n",
              "  <thead>\n",
              "    <tr style=\"text-align: right;\">\n",
              "      <th></th>\n",
              "      <th>Dice sem Documento por Vez</th>\n",
              "      <th>Dice com Documento por Vez</th>\n",
              "    </tr>\n",
              "  </thead>\n",
              "  <tbody>\n",
              "    <tr>\n",
              "      <th>1</th>\n",
              "      <td>brasília</td>\n",
              "      <td>segundo</td>\n",
              "    </tr>\n",
              "    <tr>\n",
              "      <th>2</th>\n",
              "      <td>empresas</td>\n",
              "      <td>presidente</td>\n",
              "    </tr>\n",
              "    <tr>\n",
              "      <th>3</th>\n",
              "      <td>reais</td>\n",
              "      <td>parte</td>\n",
              "    </tr>\n",
              "    <tr>\n",
              "      <th>4</th>\n",
              "      <td>coronel</td>\n",
              "      <td>caso</td>\n",
              "    </tr>\n",
              "    <tr>\n",
              "      <th>5</th>\n",
              "      <td>área</td>\n",
              "      <td>ainda</td>\n",
              "    </tr>\n",
              "    <tr>\n",
              "      <th>6</th>\n",
              "      <td>duas</td>\n",
              "      <td>ser</td>\n",
              "    </tr>\n",
              "    <tr>\n",
              "      <th>7</th>\n",
              "      <td>pagamento</td>\n",
              "      <td>grupo</td>\n",
              "    </tr>\n",
              "    <tr>\n",
              "      <th>8</th>\n",
              "      <td>corrupção</td>\n",
              "      <td>empresas</td>\n",
              "    </tr>\n",
              "    <tr>\n",
              "      <th>9</th>\n",
              "      <td>lima</td>\n",
              "      <td>duas</td>\n",
              "    </tr>\n",
              "    <tr>\n",
              "      <th>10</th>\n",
              "      <td>risco</td>\n",
              "      <td>dia</td>\n",
              "    </tr>\n",
              "  </tbody>\n",
              "</table>\n",
              "</div>"
            ],
            "text/plain": [
              "   Dice sem Documento por Vez Dice com Documento por Vez\n",
              "1                    brasília                    segundo\n",
              "2                    empresas                 presidente\n",
              "3                       reais                      parte\n",
              "4                     coronel                       caso\n",
              "5                        área                      ainda\n",
              "6                        duas                        ser\n",
              "7                   pagamento                      grupo\n",
              "8                   corrupção                   empresas\n",
              "9                        lima                       duas\n",
              "10                      risco                        dia"
            ]
          },
          "metadata": {
            "tags": []
          },
          "execution_count": 32
        }
      ]
    },
    {
      "cell_type": "markdown",
      "metadata": {
        "id": "tp8MMTauLaRd",
        "colab_type": "text"
      },
      "source": [
        "5.   Top-10 palavras associadas aos Top-10 documentos da consulta \"bolsonaro\""
      ]
    },
    {
      "cell_type": "code",
      "metadata": {
        "id": "arNx3YS8LjhM",
        "colab_type": "code",
        "colab": {
          "base_uri": "https://localhost:8080/",
          "height": 359
        },
        "outputId": "7423eb2d-907e-4993-e4c7-786601cb0645"
      },
      "source": [
        "tabela_dice_5 = pd.DataFrame()\n",
        "tabela_dice_5['Dice sem Documento por Vez'] = tabela_consulta_5['Dice']\n",
        "tabela_dice_5['Dice com Documento por Vez'] = tabela_top_5['Dice']\n",
        "tabela_dice_5"
      ],
      "execution_count": 33,
      "outputs": [
        {
          "output_type": "execute_result",
          "data": {
            "text/html": [
              "<div>\n",
              "<style scoped>\n",
              "    .dataframe tbody tr th:only-of-type {\n",
              "        vertical-align: middle;\n",
              "    }\n",
              "\n",
              "    .dataframe tbody tr th {\n",
              "        vertical-align: top;\n",
              "    }\n",
              "\n",
              "    .dataframe thead th {\n",
              "        text-align: right;\n",
              "    }\n",
              "</style>\n",
              "<table border=\"1\" class=\"dataframe\">\n",
              "  <thead>\n",
              "    <tr style=\"text-align: right;\">\n",
              "      <th></th>\n",
              "      <th>Dice sem Documento por Vez</th>\n",
              "      <th>Dice com Documento por Vez</th>\n",
              "    </tr>\n",
              "  </thead>\n",
              "  <tbody>\n",
              "    <tr>\n",
              "      <th>1</th>\n",
              "      <td>brasil</td>\n",
              "      <td>ser</td>\n",
              "    </tr>\n",
              "    <tr>\n",
              "      <th>2</th>\n",
              "      <td>jair</td>\n",
              "      <td>presidente</td>\n",
              "    </tr>\n",
              "    <tr>\n",
              "      <th>3</th>\n",
              "      <td>presidente</td>\n",
              "      <td>brasil</td>\n",
              "    </tr>\n",
              "    <tr>\n",
              "      <th>4</th>\n",
              "      <td>governo</td>\n",
              "      <td>agora</td>\n",
              "    </tr>\n",
              "    <tr>\n",
              "      <th>5</th>\n",
              "      <td>ser</td>\n",
              "      <td>vai</td>\n",
              "    </tr>\n",
              "    <tr>\n",
              "      <th>6</th>\n",
              "      <td>ainda</td>\n",
              "      <td>ter</td>\n",
              "    </tr>\n",
              "    <tr>\n",
              "      <th>7</th>\n",
              "      <td>disse</td>\n",
              "      <td>sobre</td>\n",
              "    </tr>\n",
              "    <tr>\n",
              "      <th>8</th>\n",
              "      <td>sobre</td>\n",
              "      <td>paulo</td>\n",
              "    </tr>\n",
              "    <tr>\n",
              "      <th>9</th>\n",
              "      <td>ter</td>\n",
              "      <td>disse</td>\n",
              "    </tr>\n",
              "    <tr>\n",
              "      <th>10</th>\n",
              "      <td>diz</td>\n",
              "      <td>contra</td>\n",
              "    </tr>\n",
              "  </tbody>\n",
              "</table>\n",
              "</div>"
            ],
            "text/plain": [
              "   Dice sem Documento por Vez Dice com Documento por Vez\n",
              "1                      brasil                        ser\n",
              "2                        jair                 presidente\n",
              "3                  presidente                     brasil\n",
              "4                     governo                      agora\n",
              "5                         ser                        vai\n",
              "6                       ainda                        ter\n",
              "7                       disse                      sobre\n",
              "8                       sobre                      paulo\n",
              "9                         ter                      disse\n",
              "10                        diz                     contra"
            ]
          },
          "metadata": {
            "tags": []
          },
          "execution_count": 33
        }
      ]
    },
    {
      "cell_type": "markdown",
      "metadata": {
        "id": "BV_FQHeNs_bP",
        "colab_type": "text"
      },
      "source": [
        "**O que acontece com a precisão dos resultados em cada caso? Aumenta ou diminui? Justifique bem sua resposta.**"
      ]
    },
    {
      "cell_type": "markdown",
      "metadata": {
        "id": "XkWjZefYtCw8",
        "colab_type": "text"
      },
      "source": [
        "De acordo com os resultados, percebe-se que para o top-3 algumas consultas acabam ficando irrelevantes, fazendo com que atabela mostre palavras sem significância no contexto, mesmo desconsiderando as stopwords, fazendo com que a qualidade dos resultados não seja satisfatória. Entretanto, com relação aos top-5 e top-10, apresentam-se casos mais satisfatórios, podendo assim ser justificados pelo fato de considerar documentos que realmente tem sentido dentro do contexto da consulta."
      ]
    }
  ]
}