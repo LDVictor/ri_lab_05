{
  "nbformat": 4,
  "nbformat_minor": 0,
  "metadata": {
    "colab": {
      "name": "Lab_05_ri.ipynb",
      "version": "0.3.2",
      "provenance": [],
      "collapsed_sections": [],
      "toc_visible": true
    },
    "kernelspec": {
      "name": "python3",
      "display_name": "Python 3"
    }
  },
  "cells": [
    {
      "cell_type": "markdown",
      "metadata": {
        "id": "MJLTyu82qf4z",
        "colab_type": "text"
      },
      "source": [
        "# Laboratório 05: Expansão de Consultas"
      ]
    },
    {
      "cell_type": "markdown",
      "metadata": {
        "id": "0odUa72pqo5n",
        "colab_type": "text"
      },
      "source": [
        "Antes de responder as perguntas, precisamos dos documentos que serão extraídos do CSV, além das 5 consultas de um termo escolhidas na questão 2.1 do Laboratório 04 e da lista invertida obtida anteriormente.\n"
      ]
    },
    {
      "cell_type": "markdown",
      "metadata": {
        "id": "jcu3jXRyrfL4",
        "colab_type": "text"
      },
      "source": [
        "\n",
        "*  **Importação das extensões necessárias** "
      ]
    },
    {
      "cell_type": "code",
      "metadata": {
        "id": "Ze0P9bmxrZLt",
        "colab_type": "code",
        "outputId": "34412157-60b8-4474-f605-5ebd4535182b",
        "colab": {
          "base_uri": "https://localhost:8080/",
          "height": 85
        }
      },
      "source": [
        "import csv\n",
        "import pandas as pd\n",
        "import numpy as np\n",
        "import nltk\n",
        "import re\n",
        "import collections\n",
        "import math\n",
        "import matplotlib.pyplot as plt\n",
        "import seaborn as sns\n",
        "from nltk.tokenize import RegexpTokenizer\n",
        "from nltk.stem import PorterStemmer \n",
        "from nltk.tokenize import word_tokenize\n",
        "from nltk.corpus import stopwords\n",
        "nltk.download('stopwords')\n",
        "nltk.download('rslp')\n",
        "import heapq\n",
        "import time\n",
        "import bisect"
      ],
      "execution_count": 0,
      "outputs": [
        {
          "output_type": "stream",
          "text": [
            "[nltk_data] Downloading package stopwords to /root/nltk_data...\n",
            "[nltk_data]   Unzipping corpora/stopwords.zip.\n",
            "[nltk_data] Downloading package rslp to /root/nltk_data...\n",
            "[nltk_data]   Unzipping stemmers/rslp.zip.\n"
          ],
          "name": "stdout"
        }
      ]
    },
    {
      "cell_type": "markdown",
      "metadata": {
        "id": "AIP33xNCrolV",
        "colab_type": "text"
      },
      "source": [
        "\n",
        "*   **Leitura do CSV e criação do ranking**"
      ]
    },
    {
      "cell_type": "code",
      "metadata": {
        "id": "TaPNEpzirz6m",
        "colab_type": "code",
        "colab": {}
      },
      "source": [
        "colecao = pd.read_csv('https://raw.githubusercontent.com/LDVictor/ri_lab_01/master/output/results.csv')\n",
        "colecao = colecao.astype(str)\n",
        "#colecao = pd.read_csv('https://raw.githubusercontent.com/adautofbn/ri_lab_01/master/output/results.csv')\n",
        "documentos = colecao['texto']"
      ],
      "execution_count": 0,
      "outputs": []
    },
    {
      "cell_type": "code",
      "metadata": {
        "id": "-wHF3gm-SeuE",
        "colab_type": "code",
        "colab": {}
      },
      "source": [
        "tokenizador = RegexpTokenizer(r'([A-Za-zÁáÉéÍíÓóÚúÃãÕõÇçÂâÊê]{3,27})')\n",
        "stopwords = nltk.corpus.stopwords.words('portuguese') \n",
        "ranking = {}\n",
        "n = 0\n",
        "\n",
        "for texto in documentos:\n",
        "  palavras = [palavra for palavra in tokenizador.tokenize(texto.lower())\n",
        "           if not bool(re.search(r'\\d', palavra))\n",
        "           and palavra not in stopwords and len(palavra) >= 3]  \n",
        "  n += 1\n",
        "  for t in palavras:\n",
        "    if t not in ranking.keys():\n",
        "      ranking[t] = []\n",
        "    ranking[t].append(n)\n",
        "    \n",
        "for elemento in ranking.items():\n",
        "  d = dict(collections.Counter(elemento[1]))\n",
        "  ranking[elemento[0]] = list(d.items())"
      ],
      "execution_count": 0,
      "outputs": []
    },
    {
      "cell_type": "markdown",
      "metadata": {
        "id": "4N8nohH4sYAg",
        "colab_type": "text"
      },
      "source": [
        "\n",
        "\n",
        "*  **Definição das 5 consultas**"
      ]
    },
    {
      "cell_type": "code",
      "metadata": {
        "id": "yckUlw13sjGc",
        "colab_type": "code",
        "colab": {}
      },
      "source": [
        "consultas = [\"presidente\", \"educação\", \"privatização\", \"empresa\", \"bolsonaro\"]"
      ],
      "execution_count": 0,
      "outputs": []
    },
    {
      "cell_type": "markdown",
      "metadata": {
        "id": "OdfYJOqisKRo",
        "colab_type": "text"
      },
      "source": [
        "# Questão 1"
      ]
    },
    {
      "cell_type": "markdown",
      "metadata": {
        "id": "y3lcNBd6sR8e",
        "colab_type": "text"
      },
      "source": [
        "**Calcule as top-10 palavras mais associadas a cada uma dessas 5 palavras de acordo com as 4 métricas que vimos na aula. Você deve produzir uma tabela similar à tabela 6.3 do capítulo 6 do livro texto (pág. 204).**\n"
      ]
    },
    {
      "cell_type": "markdown",
      "metadata": {
        "id": "vgBEaQFCxifh",
        "colab_type": "text"
      },
      "source": [
        "Primeiramente, iremos definir as funções para calcular cada uma das métricas: Dice's Coefficient (Dice), Mutual Information Measure (MIM), Expected Mutual Information Measure (EMIM) e Pearson's Chi-squared (χ²)."
      ]
    },
    {
      "cell_type": "code",
      "metadata": {
        "id": "IAGuB0Ocx_zS",
        "colab_type": "code",
        "colab": {}
      },
      "source": [
        "def valorMIM(a, b):\n",
        "  na = calculaNx(a)\n",
        "  nb = calculaNx(b)\n",
        "  nab = calculaNab(a,b)\n",
        "  mim = nab / (na * nb)\n",
        "  return (mim, b)\n",
        "  \n",
        "def valorEMIM(a, b):\n",
        "  na = calculaNx(a)\n",
        "  nb = calculaNx(b)\n",
        "  nab = calculaNab(a, b)\n",
        "  n = calculaN()\n",
        "  exp = n * (nab / (na * nb))\n",
        "  if exp != 0:\n",
        "    emim = nab * np.log(exp)\n",
        "  else:\n",
        "    emim = 0\n",
        "  return (na, b)\n",
        "  \n",
        "def valorChiSquared(a, b):\n",
        "  na = calculaNx(a)\n",
        "  nb = calculaNx(b)\n",
        "  nab = calculaNab(a, b)\n",
        "  n = calculaN()\n",
        "  chi_squared = ((nab - (1 / n) * na * nb) ** 2 / (na * nb))\n",
        "  return (chi_squared, b)\n",
        "  \n",
        "def valorDice(a, b):\n",
        "  na = calculaNx(a)\n",
        "  nb = calculaNx(b)\n",
        "  nab = calculaNab(a, b)\n",
        "  dice = (nab / (na + nb))\n",
        "  return (dice, b)"
      ],
      "execution_count": 0,
      "outputs": []
    },
    {
      "cell_type": "markdown",
      "metadata": {
        "id": "AofRk0mA3XOF",
        "colab_type": "text"
      },
      "source": [
        "De maneira análoga, também precisamos definir como calcular os valores de Na, Nb, Nab e N para usar nas métricas definidas."
      ]
    },
    {
      "cell_type": "code",
      "metadata": {
        "id": "cwQOyXls3hem",
        "colab_type": "code",
        "colab": {}
      },
      "source": [
        "def calculaNx(palavraX):\n",
        "  return len(ranking[palavraX])\n",
        "\n",
        "def calculaNab(palavraA, palavraB):\n",
        "  documentosA = [documento for documento, pontos in ranking[palavraA]]\n",
        "  documentosB = [documento for documento, pontos in ranking[palavraB]]\n",
        "  n = 0\n",
        "  \n",
        "  for documento in documentosA:\n",
        "    if documento in documentosB:\n",
        "      n += 1\n",
        "      \n",
        "  return n\n",
        "  \n",
        "def calculaN():\n",
        "  return documentos.count()"
      ],
      "execution_count": 0,
      "outputs": []
    },
    {
      "cell_type": "markdown",
      "metadata": {
        "id": "wmTqPQgt1nhr",
        "colab_type": "text"
      },
      "source": [
        "Com as funções já criadas, podemos agora percorrer a lista invertida para cada consulta, armazenando os resultados dos cálculos de cada métrica. Para isso, criaremos uma função que, dada a consulta, retornará uma tabela com as 10 palavras mais associadas a cada consulta de acordo com as métricas que definimos acima."
      ]
    },
    {
      "cell_type": "code",
      "metadata": {
        "id": "5MZsIUGf11Dp",
        "colab_type": "code",
        "colab": {}
      },
      "source": [
        "def criaTabela(consulta):\n",
        "  dice = []\n",
        "  mim = []\n",
        "  emim = []\n",
        "  chi_squared = []\n",
        "  \n",
        "  for palavra in ranking:\n",
        "    if palavra != consulta:\n",
        "      bisect.insort(dice, valorDice(consulta, palavra))\n",
        "      bisect.insort(mim, valorMIM(consulta, palavra))\n",
        "      bisect.insort(emim, valorEMIM(consulta, palavra))\n",
        "      bisect.insort(chi_squared, valorChiSquared(consulta, palavra))\n",
        "\n",
        "  dice.reverse()    \n",
        "  mim.reverse()\n",
        "  emim.reverse()\n",
        "  chi_squared.reverse()\n",
        "  \n",
        "  tabela_metricas = pd.DataFrame(columns=['MIM', 'EMIM', 'χ²', 'Dice'])\n",
        "\n",
        "  tabela_metricas['MIM'] = [palavra[1] for palavra in mim]\n",
        "  tabela_metricas['EMIM'] = [palavra[1] for palavra in emim]\n",
        "  tabela_metricas['χ²'] = [palavra[1] for palavra in chi_squared]\n",
        "  tabela_metricas['Dice'] = [palavra[1] for palavra in dice]\n",
        "  \n",
        "  tabela_metricas.index += 1\n",
        "  \n",
        "  return tabela_metricas.head(10)"
      ],
      "execution_count": 0,
      "outputs": []
    },
    {
      "cell_type": "markdown",
      "metadata": {
        "id": "InAHxGSEv7Ky",
        "colab_type": "text"
      },
      "source": [
        "Por fim, chamaremos a função para cada consulta do vetor.\n"
      ]
    },
    {
      "cell_type": "markdown",
      "metadata": {
        "id": "WE0V1F-495XT",
        "colab_type": "text"
      },
      "source": [
        "\n",
        "\n",
        "1.   Consulta \"presidente\""
      ]
    },
    {
      "cell_type": "code",
      "metadata": {
        "id": "x-I3AjYPsWpH",
        "colab_type": "code",
        "outputId": "ae2bc649-1b84-4b30-f192-8c9d6e7eae23",
        "colab": {
          "base_uri": "https://localhost:8080/",
          "height": 359
        }
      },
      "source": [
        "tabela_consulta_1 = criaTabela(consultas[0])\n",
        "tabela_consulta_1"
      ],
      "execution_count": 0,
      "outputs": [
        {
          "output_type": "execute_result",
          "data": {
            "text/html": [
              "<div>\n",
              "<style scoped>\n",
              "    .dataframe tbody tr th:only-of-type {\n",
              "        vertical-align: middle;\n",
              "    }\n",
              "\n",
              "    .dataframe tbody tr th {\n",
              "        vertical-align: top;\n",
              "    }\n",
              "\n",
              "    .dataframe thead th {\n",
              "        text-align: right;\n",
              "    }\n",
              "</style>\n",
              "<table border=\"1\" class=\"dataframe\">\n",
              "  <thead>\n",
              "    <tr style=\"text-align: right;\">\n",
              "      <th></th>\n",
              "      <th>MIM</th>\n",
              "      <th>EMIM</th>\n",
              "      <th>χ²</th>\n",
              "      <th>Dice</th>\n",
              "    </tr>\n",
              "  </thead>\n",
              "  <tbody>\n",
              "    <tr>\n",
              "      <th>1</th>\n",
              "      <td>útil</td>\n",
              "      <td>útil</td>\n",
              "      <td>presidência</td>\n",
              "      <td>governo</td>\n",
              "    </tr>\n",
              "    <tr>\n",
              "      <th>2</th>\n",
              "      <td>úteis</td>\n",
              "      <td>úteis</td>\n",
              "      <td>feira</td>\n",
              "      <td>ser</td>\n",
              "    </tr>\n",
              "    <tr>\n",
              "      <th>3</th>\n",
              "      <td>únicos</td>\n",
              "      <td>únicos</td>\n",
              "      <td>forças</td>\n",
              "      <td>brasil</td>\n",
              "    </tr>\n",
              "    <tr>\n",
              "      <th>4</th>\n",
              "      <td>ótimos</td>\n",
              "      <td>único</td>\n",
              "      <td>armadas</td>\n",
              "      <td>sobre</td>\n",
              "    </tr>\n",
              "    <tr>\n",
              "      <th>5</th>\n",
              "      <td>ótimo</td>\n",
              "      <td>únicas</td>\n",
              "      <td>trump</td>\n",
              "      <td>país</td>\n",
              "    </tr>\n",
              "    <tr>\n",
              "      <th>6</th>\n",
              "      <td>ótica</td>\n",
              "      <td>única</td>\n",
              "      <td>posição</td>\n",
              "      <td>bolsonaro</td>\n",
              "    </tr>\n",
              "    <tr>\n",
              "      <th>7</th>\n",
              "      <td>ódios</td>\n",
              "      <td>últimos</td>\n",
              "      <td>brasil</td>\n",
              "      <td>feira</td>\n",
              "    </tr>\n",
              "    <tr>\n",
              "      <th>8</th>\n",
              "      <td>óculos</td>\n",
              "      <td>último</td>\n",
              "      <td>parte</td>\n",
              "      <td>ainda</td>\n",
              "    </tr>\n",
              "    <tr>\n",
              "      <th>9</th>\n",
              "      <td>íntima</td>\n",
              "      <td>últimas</td>\n",
              "      <td>venezuela</td>\n",
              "      <td>disse</td>\n",
              "    </tr>\n",
              "    <tr>\n",
              "      <th>10</th>\n",
              "      <td>índole</td>\n",
              "      <td>última</td>\n",
              "      <td>casa</td>\n",
              "      <td>segundo</td>\n",
              "    </tr>\n",
              "  </tbody>\n",
              "</table>\n",
              "</div>"
            ],
            "text/plain": [
              "       MIM     EMIM           χ²       Dice\n",
              "1     útil     útil  presidência    governo\n",
              "2    úteis    úteis        feira        ser\n",
              "3   únicos   únicos       forças     brasil\n",
              "4   ótimos    único      armadas      sobre\n",
              "5    ótimo   únicas        trump       país\n",
              "6    ótica    única      posição  bolsonaro\n",
              "7    ódios  últimos       brasil      feira\n",
              "8   óculos   último        parte      ainda\n",
              "9   íntima  últimas    venezuela      disse\n",
              "10  índole   última         casa    segundo"
            ]
          },
          "metadata": {
            "tags": []
          },
          "execution_count": 29
        }
      ]
    },
    {
      "cell_type": "markdown",
      "metadata": {
        "id": "j1GjRUJQ99c3",
        "colab_type": "text"
      },
      "source": [
        "\n",
        "2.   Consulta \"educação\"\n",
        "\n"
      ]
    },
    {
      "cell_type": "code",
      "metadata": {
        "id": "iL9sFReU-E_b",
        "colab_type": "code",
        "outputId": "8fe2f13c-1585-4b49-c9f0-33c46b2d06f2",
        "colab": {
          "base_uri": "https://localhost:8080/",
          "height": 359
        }
      },
      "source": [
        "tabela_consulta_2 = criaTabela(consultas[1])\n",
        "tabela_consulta_2"
      ],
      "execution_count": 0,
      "outputs": [
        {
          "output_type": "execute_result",
          "data": {
            "text/html": [
              "<div>\n",
              "<style scoped>\n",
              "    .dataframe tbody tr th:only-of-type {\n",
              "        vertical-align: middle;\n",
              "    }\n",
              "\n",
              "    .dataframe tbody tr th {\n",
              "        vertical-align: top;\n",
              "    }\n",
              "\n",
              "    .dataframe thead th {\n",
              "        text-align: right;\n",
              "    }\n",
              "</style>\n",
              "<table border=\"1\" class=\"dataframe\">\n",
              "  <thead>\n",
              "    <tr style=\"text-align: right;\">\n",
              "      <th></th>\n",
              "      <th>MIM</th>\n",
              "      <th>EMIM</th>\n",
              "      <th>χ²</th>\n",
              "      <th>Dice</th>\n",
              "    </tr>\n",
              "  </thead>\n",
              "  <tbody>\n",
              "    <tr>\n",
              "      <th>1</th>\n",
              "      <td>íntimas</td>\n",
              "      <td>útil</td>\n",
              "      <td>constrangimento</td>\n",
              "      <td>sociais</td>\n",
              "    </tr>\n",
              "    <tr>\n",
              "      <th>2</th>\n",
              "      <td>íntima</td>\n",
              "      <td>úteis</td>\n",
              "      <td>substancial</td>\n",
              "      <td>instituto</td>\n",
              "    </tr>\n",
              "    <tr>\n",
              "      <th>3</th>\n",
              "      <td>ânima</td>\n",
              "      <td>únicos</td>\n",
              "      <td>holocausto</td>\n",
              "      <td>redes</td>\n",
              "    </tr>\n",
              "    <tr>\n",
              "      <th>4</th>\n",
              "      <td>âncora</td>\n",
              "      <td>único</td>\n",
              "      <td>instituto</td>\n",
              "      <td>ricardo</td>\n",
              "    </tr>\n",
              "    <tr>\n",
              "      <th>5</th>\n",
              "      <td>ávila</td>\n",
              "      <td>únicas</td>\n",
              "      <td>nacionalista</td>\n",
              "      <td>violência</td>\n",
              "    </tr>\n",
              "    <tr>\n",
              "      <th>6</th>\n",
              "      <td>álibis</td>\n",
              "      <td>única</td>\n",
              "      <td>durou</td>\n",
              "      <td>culpa</td>\n",
              "    </tr>\n",
              "    <tr>\n",
              "      <th>7</th>\n",
              "      <td>zumba</td>\n",
              "      <td>últimos</td>\n",
              "      <td>comentários</td>\n",
              "      <td>alunos</td>\n",
              "    </tr>\n",
              "    <tr>\n",
              "      <th>8</th>\n",
              "      <td>zelar</td>\n",
              "      <td>último</td>\n",
              "      <td>ricardo</td>\n",
              "      <td>constrangimento</td>\n",
              "    </tr>\n",
              "    <tr>\n",
              "      <th>9</th>\n",
              "      <td>zeidan</td>\n",
              "      <td>últimas</td>\n",
              "      <td>sociais</td>\n",
              "      <td>faz</td>\n",
              "    </tr>\n",
              "    <tr>\n",
              "      <th>10</th>\n",
              "      <td>ynaê</td>\n",
              "      <td>última</td>\n",
              "      <td>sofrimento</td>\n",
              "      <td>escolas</td>\n",
              "    </tr>\n",
              "  </tbody>\n",
              "</table>\n",
              "</div>"
            ],
            "text/plain": [
              "        MIM     EMIM               χ²             Dice\n",
              "1   íntimas     útil  constrangimento          sociais\n",
              "2    íntima    úteis      substancial        instituto\n",
              "3     ânima   únicos       holocausto            redes\n",
              "4    âncora    único        instituto          ricardo\n",
              "5     ávila   únicas     nacionalista        violência\n",
              "6    álibis    única            durou            culpa\n",
              "7     zumba  últimos      comentários           alunos\n",
              "8     zelar   último          ricardo  constrangimento\n",
              "9    zeidan  últimas          sociais              faz\n",
              "10     ynaê   última       sofrimento          escolas"
            ]
          },
          "metadata": {
            "tags": []
          },
          "execution_count": 30
        }
      ]
    },
    {
      "cell_type": "markdown",
      "metadata": {
        "id": "nKK__E9O-Iis",
        "colab_type": "text"
      },
      "source": [
        "\n",
        "3.   Consulta \"privatização\""
      ]
    },
    {
      "cell_type": "code",
      "metadata": {
        "id": "oB6yV8xd-OrT",
        "colab_type": "code",
        "outputId": "d8ea97b0-287e-47cb-bb83-44a4906e600f",
        "colab": {
          "base_uri": "https://localhost:8080/",
          "height": 359
        }
      },
      "source": [
        "tabela_consulta_3 = criaTabela(consultas[2])\n",
        "tabela_consulta_3"
      ],
      "execution_count": 0,
      "outputs": [
        {
          "output_type": "execute_result",
          "data": {
            "text/html": [
              "<div>\n",
              "<style scoped>\n",
              "    .dataframe tbody tr th:only-of-type {\n",
              "        vertical-align: middle;\n",
              "    }\n",
              "\n",
              "    .dataframe tbody tr th {\n",
              "        vertical-align: top;\n",
              "    }\n",
              "\n",
              "    .dataframe thead th {\n",
              "        text-align: right;\n",
              "    }\n",
              "</style>\n",
              "<table border=\"1\" class=\"dataframe\">\n",
              "  <thead>\n",
              "    <tr style=\"text-align: right;\">\n",
              "      <th></th>\n",
              "      <th>MIM</th>\n",
              "      <th>EMIM</th>\n",
              "      <th>χ²</th>\n",
              "      <th>Dice</th>\n",
              "    </tr>\n",
              "  </thead>\n",
              "  <tbody>\n",
              "    <tr>\n",
              "      <th>1</th>\n",
              "      <td>ámbito</td>\n",
              "      <td>útil</td>\n",
              "      <td>rentabilidade</td>\n",
              "      <td>rentabilidade</td>\n",
              "    </tr>\n",
              "    <tr>\n",
              "      <th>2</th>\n",
              "      <td>zelar</td>\n",
              "      <td>úteis</td>\n",
              "      <td>juros</td>\n",
              "      <td>juros</td>\n",
              "    </tr>\n",
              "    <tr>\n",
              "      <th>3</th>\n",
              "      <td>véu</td>\n",
              "      <td>únicos</td>\n",
              "      <td>externo</td>\n",
              "      <td>externo</td>\n",
              "    </tr>\n",
              "    <tr>\n",
              "      <th>4</th>\n",
              "      <td>voos</td>\n",
              "      <td>único</td>\n",
              "      <td>melhora</td>\n",
              "      <td>melhora</td>\n",
              "    </tr>\n",
              "    <tr>\n",
              "      <th>5</th>\n",
              "      <td>vencidas</td>\n",
              "      <td>únicas</td>\n",
              "      <td>consistente</td>\n",
              "      <td>consistente</td>\n",
              "    </tr>\n",
              "    <tr>\n",
              "      <th>6</th>\n",
              "      <td>venciam</td>\n",
              "      <td>única</td>\n",
              "      <td>beneficia</td>\n",
              "      <td>beneficia</td>\n",
              "    </tr>\n",
              "    <tr>\n",
              "      <th>7</th>\n",
              "      <td>vastas</td>\n",
              "      <td>últimos</td>\n",
              "      <td>aprofundamento</td>\n",
              "      <td>aprofundamento</td>\n",
              "    </tr>\n",
              "    <tr>\n",
              "      <th>8</th>\n",
              "      <td>variações</td>\n",
              "      <td>último</td>\n",
              "      <td>impostos</td>\n",
              "      <td>impostos</td>\n",
              "    </tr>\n",
              "    <tr>\n",
              "      <th>9</th>\n",
              "      <td>variação</td>\n",
              "      <td>últimas</td>\n",
              "      <td>ámbito</td>\n",
              "      <td>sustentar</td>\n",
              "    </tr>\n",
              "    <tr>\n",
              "      <th>10</th>\n",
              "      <td>turbulências</td>\n",
              "      <td>última</td>\n",
              "      <td>zelar</td>\n",
              "      <td>pressões</td>\n",
              "    </tr>\n",
              "  </tbody>\n",
              "</table>\n",
              "</div>"
            ],
            "text/plain": [
              "             MIM     EMIM              χ²            Dice\n",
              "1         ámbito     útil   rentabilidade   rentabilidade\n",
              "2          zelar    úteis           juros           juros\n",
              "3            véu   únicos         externo         externo\n",
              "4           voos    único         melhora         melhora\n",
              "5       vencidas   únicas     consistente     consistente\n",
              "6        venciam    única       beneficia       beneficia\n",
              "7         vastas  últimos  aprofundamento  aprofundamento\n",
              "8      variações   último        impostos        impostos\n",
              "9       variação  últimas          ámbito       sustentar\n",
              "10  turbulências   última           zelar        pressões"
            ]
          },
          "metadata": {
            "tags": []
          },
          "execution_count": 31
        }
      ]
    },
    {
      "cell_type": "markdown",
      "metadata": {
        "id": "7dI-fWd0-Q9Y",
        "colab_type": "text"
      },
      "source": [
        "\n",
        "4.   Consulta \"empresa\""
      ]
    },
    {
      "cell_type": "code",
      "metadata": {
        "id": "_I6RL0fn-Wu6",
        "colab_type": "code",
        "outputId": "79646d09-c38c-43d2-85f0-4910a84ce976",
        "colab": {
          "base_uri": "https://localhost:8080/",
          "height": 359
        }
      },
      "source": [
        "tabela_consulta_4 = criaTabela(consultas[3])\n",
        "tabela_consulta_4"
      ],
      "execution_count": 0,
      "outputs": [
        {
          "output_type": "execute_result",
          "data": {
            "text/html": [
              "<div>\n",
              "<style scoped>\n",
              "    .dataframe tbody tr th:only-of-type {\n",
              "        vertical-align: middle;\n",
              "    }\n",
              "\n",
              "    .dataframe tbody tr th {\n",
              "        vertical-align: top;\n",
              "    }\n",
              "\n",
              "    .dataframe thead th {\n",
              "        text-align: right;\n",
              "    }\n",
              "</style>\n",
              "<table border=\"1\" class=\"dataframe\">\n",
              "  <thead>\n",
              "    <tr style=\"text-align: right;\">\n",
              "      <th></th>\n",
              "      <th>MIM</th>\n",
              "      <th>EMIM</th>\n",
              "      <th>χ²</th>\n",
              "      <th>Dice</th>\n",
              "    </tr>\n",
              "  </thead>\n",
              "  <tbody>\n",
              "    <tr>\n",
              "      <th>1</th>\n",
              "      <td>ânimo</td>\n",
              "      <td>útil</td>\n",
              "      <td>desculpas</td>\n",
              "      <td>brasília</td>\n",
              "    </tr>\n",
              "    <tr>\n",
              "      <th>2</th>\n",
              "      <td>ânima</td>\n",
              "      <td>úteis</td>\n",
              "      <td>irregularidades</td>\n",
              "      <td>empresas</td>\n",
              "    </tr>\n",
              "    <tr>\n",
              "      <th>3</th>\n",
              "      <td>zoneamento</td>\n",
              "      <td>únicos</td>\n",
              "      <td>coronel</td>\n",
              "      <td>reais</td>\n",
              "    </tr>\n",
              "    <tr>\n",
              "      <th>4</th>\n",
              "      <td>zimmermann</td>\n",
              "      <td>único</td>\n",
              "      <td>brasília</td>\n",
              "      <td>coronel</td>\n",
              "    </tr>\n",
              "    <tr>\n",
              "      <th>5</th>\n",
              "      <td>yousseff</td>\n",
              "      <td>únicas</td>\n",
              "      <td>sócio</td>\n",
              "      <td>área</td>\n",
              "    </tr>\n",
              "    <tr>\n",
              "      <th>6</th>\n",
              "      <td>younger</td>\n",
              "      <td>única</td>\n",
              "      <td>rita</td>\n",
              "      <td>duas</td>\n",
              "    </tr>\n",
              "    <tr>\n",
              "      <th>7</th>\n",
              "      <td>xingam</td>\n",
              "      <td>últimos</td>\n",
              "      <td>morre</td>\n",
              "      <td>pagamento</td>\n",
              "    </tr>\n",
              "    <tr>\n",
              "      <th>8</th>\n",
              "      <td>xerife</td>\n",
              "      <td>último</td>\n",
              "      <td>nicas</td>\n",
              "      <td>corrupção</td>\n",
              "    </tr>\n",
              "    <tr>\n",
              "      <th>9</th>\n",
              "      <td>werner</td>\n",
              "      <td>últimas</td>\n",
              "      <td>irregularidade</td>\n",
              "      <td>lima</td>\n",
              "    </tr>\n",
              "    <tr>\n",
              "      <th>10</th>\n",
              "      <td>wanzhou</td>\n",
              "      <td>última</td>\n",
              "      <td>delatores</td>\n",
              "      <td>risco</td>\n",
              "    </tr>\n",
              "  </tbody>\n",
              "</table>\n",
              "</div>"
            ],
            "text/plain": [
              "           MIM     EMIM               χ²       Dice\n",
              "1        ânimo     útil        desculpas   brasília\n",
              "2        ânima    úteis  irregularidades   empresas\n",
              "3   zoneamento   únicos          coronel      reais\n",
              "4   zimmermann    único         brasília    coronel\n",
              "5     yousseff   únicas            sócio       área\n",
              "6      younger    única             rita       duas\n",
              "7       xingam  últimos            morre  pagamento\n",
              "8       xerife   último            nicas  corrupção\n",
              "9       werner  últimas   irregularidade       lima\n",
              "10     wanzhou   última        delatores      risco"
            ]
          },
          "metadata": {
            "tags": []
          },
          "execution_count": 32
        }
      ]
    },
    {
      "cell_type": "markdown",
      "metadata": {
        "id": "ncw3x0O--ZGe",
        "colab_type": "text"
      },
      "source": [
        "\n",
        "\n",
        "5.   Consulta \"bolsonaro\"\n"
      ]
    },
    {
      "cell_type": "code",
      "metadata": {
        "id": "V3pxpWkc-gGL",
        "colab_type": "code",
        "outputId": "c41800d1-b6a1-4273-c463-29c15c2a1d56",
        "colab": {
          "base_uri": "https://localhost:8080/",
          "height": 359
        }
      },
      "source": [
        "tabela_consulta_5 = criaTabela(consultas[4])\n",
        "tabela_consulta_5"
      ],
      "execution_count": 0,
      "outputs": [
        {
          "output_type": "execute_result",
          "data": {
            "text/html": [
              "<div>\n",
              "<style scoped>\n",
              "    .dataframe tbody tr th:only-of-type {\n",
              "        vertical-align: middle;\n",
              "    }\n",
              "\n",
              "    .dataframe tbody tr th {\n",
              "        vertical-align: top;\n",
              "    }\n",
              "\n",
              "    .dataframe thead th {\n",
              "        text-align: right;\n",
              "    }\n",
              "</style>\n",
              "<table border=\"1\" class=\"dataframe\">\n",
              "  <thead>\n",
              "    <tr style=\"text-align: right;\">\n",
              "      <th></th>\n",
              "      <th>MIM</th>\n",
              "      <th>EMIM</th>\n",
              "      <th>χ²</th>\n",
              "      <th>Dice</th>\n",
              "    </tr>\n",
              "  </thead>\n",
              "  <tbody>\n",
              "    <tr>\n",
              "      <th>1</th>\n",
              "      <td>útil</td>\n",
              "      <td>útil</td>\n",
              "      <td>jair</td>\n",
              "      <td>brasil</td>\n",
              "    </tr>\n",
              "    <tr>\n",
              "      <th>2</th>\n",
              "      <td>úteis</td>\n",
              "      <td>úteis</td>\n",
              "      <td>brasil</td>\n",
              "      <td>jair</td>\n",
              "    </tr>\n",
              "    <tr>\n",
              "      <th>3</th>\n",
              "      <td>únicos</td>\n",
              "      <td>únicos</td>\n",
              "      <td>psl</td>\n",
              "      <td>presidente</td>\n",
              "    </tr>\n",
              "    <tr>\n",
              "      <th>4</th>\n",
              "      <td>ótimos</td>\n",
              "      <td>único</td>\n",
              "      <td>deputado</td>\n",
              "      <td>governo</td>\n",
              "    </tr>\n",
              "    <tr>\n",
              "      <th>5</th>\n",
              "      <td>íntima</td>\n",
              "      <td>únicas</td>\n",
              "      <td>campanha</td>\n",
              "      <td>ser</td>\n",
              "    </tr>\n",
              "    <tr>\n",
              "      <th>6</th>\n",
              "      <td>índole</td>\n",
              "      <td>única</td>\n",
              "      <td>filhos</td>\n",
              "      <td>ainda</td>\n",
              "    </tr>\n",
              "    <tr>\n",
              "      <th>7</th>\n",
              "      <td>ímpetos</td>\n",
              "      <td>últimos</td>\n",
              "      <td>presidência</td>\n",
              "      <td>disse</td>\n",
              "    </tr>\n",
              "    <tr>\n",
              "      <th>8</th>\n",
              "      <td>ênfase</td>\n",
              "      <td>último</td>\n",
              "      <td>capitão</td>\n",
              "      <td>sobre</td>\n",
              "    </tr>\n",
              "    <tr>\n",
              "      <th>9</th>\n",
              "      <td>étnicos</td>\n",
              "      <td>últimas</td>\n",
              "      <td>araújo</td>\n",
              "      <td>ter</td>\n",
              "    </tr>\n",
              "    <tr>\n",
              "      <th>10</th>\n",
              "      <td>étnicas</td>\n",
              "      <td>última</td>\n",
              "      <td>eleição</td>\n",
              "      <td>diz</td>\n",
              "    </tr>\n",
              "  </tbody>\n",
              "</table>\n",
              "</div>"
            ],
            "text/plain": [
              "        MIM     EMIM           χ²        Dice\n",
              "1      útil     útil         jair      brasil\n",
              "2     úteis    úteis       brasil        jair\n",
              "3    únicos   únicos          psl  presidente\n",
              "4    ótimos    único     deputado     governo\n",
              "5    íntima   únicas     campanha         ser\n",
              "6    índole    única       filhos       ainda\n",
              "7   ímpetos  últimos  presidência       disse\n",
              "8    ênfase   último      capitão       sobre\n",
              "9   étnicos  últimas       araújo         ter\n",
              "10  étnicas   última      eleição         diz"
            ]
          },
          "metadata": {
            "tags": []
          },
          "execution_count": 33
        }
      ]
    },
    {
      "cell_type": "markdown",
      "metadata": {
        "id": "T4RELgtNspFN",
        "colab_type": "text"
      },
      "source": [
        "\n",
        "**Qual métrica você acha que obteve os melhores resultados? Por que?**"
      ]
    },
    {
      "cell_type": "markdown",
      "metadata": {
        "id": "slZPTQtAszjl",
        "colab_type": "text"
      },
      "source": [
        "Após a análise de todos os resultados das tabelas acima, a métrica do coeficiente de Dice aparentou ter os melhores resultados para as cinco consultas definidas pelo fato de ter sido a mais estável e confiável em uma variedade de palavras."
      ]
    },
    {
      "cell_type": "markdown",
      "metadata": {
        "id": "VYY6t-0bs4Jx",
        "colab_type": "text"
      },
      "source": [
        "# Questão 2"
      ]
    },
    {
      "cell_type": "markdown",
      "metadata": {
        "id": "pCUxjPfIs6Jc",
        "colab_type": "text"
      },
      "source": [
        "**De acordo com a métrica que deu os melhores resultados na sua opinião, execute agora cada consulta (usando a abordagem documento- ou termo-por-vez)  expandido-a com: os top-3, top-5 e top-10 documentos.**"
      ]
    },
    {
      "cell_type": "markdown",
      "metadata": {
        "id": "KNSGlMvHfVlc",
        "colab_type": "text"
      },
      "source": [
        "Primeiramente, precisamos da função que segue uma abordagem documento-por-vez ou termo-por-vez. Para essa questão, iremos escolher a abordagem documento-por-vez implementada na última atividade de laboratório."
      ]
    },
    {
      "cell_type": "code",
      "metadata": {
        "id": "koKSktXDfnxX",
        "colab_type": "code",
        "colab": {}
      },
      "source": [
        "def documentoPorVez(consulta, indices, k):\n",
        "    listas_invertidas = []\n",
        "    r = []\n",
        "    for palavra in consulta.split(\" \"):\n",
        "        if palavra in indices.keys():\n",
        "            listas_invertidas.append(indices[palavra])\n",
        "    for documento in range(1, len(documentos)+1):\n",
        "        sd = 0\n",
        "        for lista_invertida in listas_invertidas:\n",
        "            for i in lista_invertida:\n",
        "                if (i[0] == documento): \n",
        "                    sd += i[1]\n",
        "                    break\n",
        "        if (sd != 0):\n",
        "          heapq.heappush(r, (sd, documento))\n",
        "    return heapq.nlargest(k, r)"
      ],
      "execution_count": 0,
      "outputs": []
    },
    {
      "cell_type": "markdown",
      "metadata": {
        "id": "S_QgxDSRfuzs",
        "colab_type": "text"
      },
      "source": [
        "Como a métrica escolhida foi o coeficiente de Dice, faremos uso da função \"valorDice\" nos índices da abordagem. Sendo assim, teremos a seguinte implementação: "
      ]
    },
    {
      "cell_type": "code",
      "metadata": {
        "id": "WDp8zlCCs-4S",
        "colab_type": "code",
        "colab": {}
      },
      "source": [
        "def documentoPorVez(consulta, indices, k):\n",
        "    listas_invertidas = []\n",
        "    r = []\n",
        "    for palavra in consulta.split(\" \"):\n",
        "        if palavra in indices.keys():\n",
        "            listas_invertidas.append(indices[palavra])\n",
        "    for documento in range(1, len(documentos)+1):\n",
        "        sd = 0\n",
        "        for lista_invertida in listas_invertidas:\n",
        "            for i in lista_invertida:\n",
        "                if (i[0] == documento): \n",
        "                    sd += i[1]\n",
        "                    break\n",
        "        if (sd != 0):\n",
        "          heapq.heappush(r, (sd, documento))\n",
        "    return heapq.nlargest(k, r)"
      ],
      "execution_count": 0,
      "outputs": []
    },
    {
      "cell_type": "code",
      "metadata": {
        "id": "uqErhH1agfIo",
        "colab_type": "code",
        "colab": {}
      },
      "source": [
        "resultados_documento = []\n",
        "k = 10\n",
        "\n",
        "for consulta in consultas:\n",
        "  resultados_documento.append(documentoPorVez(consulta, ranking, k))"
      ],
      "execution_count": 0,
      "outputs": []
    },
    {
      "cell_type": "markdown",
      "metadata": {
        "id": "BV_FQHeNs_bP",
        "colab_type": "text"
      },
      "source": [
        "**O que acontece com a precisão dos resultados em cada caso? Aumenta ou diminui? Justifique bem sua resposta.**"
      ]
    },
    {
      "cell_type": "markdown",
      "metadata": {
        "id": "XkWjZefYtCw8",
        "colab_type": "text"
      },
      "source": [
        "..."
      ]
    }
  ]
}