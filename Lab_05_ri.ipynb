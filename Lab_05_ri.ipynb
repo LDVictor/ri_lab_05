{
  "nbformat": 4,
  "nbformat_minor": 0,
  "metadata": {
    "colab": {
      "name": "Lab_05_ri.ipynb",
      "version": "0.3.2",
      "provenance": [],
      "collapsed_sections": []
    },
    "kernelspec": {
      "name": "python3",
      "display_name": "Python 3"
    }
  },
  "cells": [
    {
      "cell_type": "markdown",
      "metadata": {
        "id": "MJLTyu82qf4z",
        "colab_type": "text"
      },
      "source": [
        "# Laboratório 05: Expansão de Consultas"
      ]
    },
    {
      "cell_type": "markdown",
      "metadata": {
        "id": "0odUa72pqo5n",
        "colab_type": "text"
      },
      "source": [
        "Antes de responder as perguntas, precisamos dos documentos que serão extraídos do CSV, além das 5 consultas de um termo escolhidas na questão 2.1 do Laboratório 04 e da lista invertida obtida anteriormente.\n"
      ]
    },
    {
      "cell_type": "markdown",
      "metadata": {
        "id": "jcu3jXRyrfL4",
        "colab_type": "text"
      },
      "source": [
        "\n",
        "*  **Importação das extensões necessárias** "
      ]
    },
    {
      "cell_type": "code",
      "metadata": {
        "id": "Ze0P9bmxrZLt",
        "colab_type": "code",
        "outputId": "48c5510e-db71-4eba-bf38-686412c8fe7c",
        "colab": {
          "base_uri": "https://localhost:8080/",
          "height": 85
        }
      },
      "source": [
        "import csv\n",
        "import pandas as pd\n",
        "import nltk\n",
        "import re\n",
        "import collections\n",
        "import math\n",
        "import matplotlib.pyplot as plt\n",
        "import seaborn as sns\n",
        "from nltk.tokenize import RegexpTokenizer\n",
        "from nltk.stem import PorterStemmer \n",
        "from nltk.tokenize import word_tokenize\n",
        "from nltk.corpus import stopwords\n",
        "nltk.download('stopwords')\n",
        "nltk.download('rslp')\n",
        "import heapq\n",
        "import time"
      ],
      "execution_count": 0,
      "outputs": [
        {
          "output_type": "stream",
          "text": [
            "[nltk_data] Downloading package stopwords to /root/nltk_data...\n",
            "[nltk_data]   Unzipping corpora/stopwords.zip.\n",
            "[nltk_data] Downloading package rslp to /root/nltk_data...\n",
            "[nltk_data]   Unzipping stemmers/rslp.zip.\n"
          ],
          "name": "stdout"
        }
      ]
    },
    {
      "cell_type": "markdown",
      "metadata": {
        "id": "AIP33xNCrolV",
        "colab_type": "text"
      },
      "source": [
        "\n",
        "*   **Leitura do CSV**"
      ]
    },
    {
      "cell_type": "code",
      "metadata": {
        "id": "TaPNEpzirz6m",
        "colab_type": "code",
        "colab": {}
      },
      "source": [
        "colecao = pd.read_csv('https://raw.githubusercontent.com/LDVictor/ri_lab_01/master/output/results.csv')\n",
        "colecao = colecao.astype(str)\n",
        "documentos = colecao['texto']"
      ],
      "execution_count": 0,
      "outputs": []
    },
    {
      "cell_type": "markdown",
      "metadata": {
        "id": "AFa7nsXzr2PA",
        "colab_type": "text"
      },
      "source": [
        "\n",
        "*   **Criação da lista invertida**"
      ]
    },
    {
      "cell_type": "code",
      "metadata": {
        "id": "U9bc9kzosHNm",
        "colab_type": "code",
        "colab": {}
      },
      "source": [
        "stopwords = stopwords.words(\"portuguese\")\n",
        "tokenizador = RegexpTokenizer(r'([A-Za-zÁáÉéÍíÓóÚúÃãÕõÇçÂâÊê]{3,27})')\n",
        "indices = {}\n",
        "n = 0\n",
        "\n",
        "for documento in documentos:\n",
        "    n += 1\n",
        "    tokens = tokenizador.tokenize(documento.lower())\n",
        "    for token in set(tokens):\n",
        "        if (token not in stopwords and len(token) >= 2):\n",
        "            contador = (n, tokens.count(token))\n",
        "            if (token not in indices.keys()):\n",
        "                  indices[token] = []\n",
        "                  indices[token].append(contador)\n",
        "            else:\n",
        "                  indices[token].append(contador)"
      ],
      "execution_count": 0,
      "outputs": []
    },
    {
      "cell_type": "markdown",
      "metadata": {
        "id": "4N8nohH4sYAg",
        "colab_type": "text"
      },
      "source": [
        "\n",
        "\n",
        "*  **Definição das 5 consultas**"
      ]
    },
    {
      "cell_type": "code",
      "metadata": {
        "id": "yckUlw13sjGc",
        "colab_type": "code",
        "colab": {}
      },
      "source": [
        "consultas = [\"presidente\", \"educação\", \"privatização\", \"empresa\", \"bolsonaro\"]"
      ],
      "execution_count": 0,
      "outputs": []
    },
    {
      "cell_type": "markdown",
      "metadata": {
        "id": "OdfYJOqisKRo",
        "colab_type": "text"
      },
      "source": [
        "# Questão 1"
      ]
    },
    {
      "cell_type": "markdown",
      "metadata": {
        "id": "y3lcNBd6sR8e",
        "colab_type": "text"
      },
      "source": [
        "**Calcule as top-10 palavras mais associadas a cada uma dessas 5 palavras de acordo com as 4 métricas que vimos na aula. Você deve produzir uma tabela similar à tabela 6.3 do capítulo 6 do livro texto (pág. 204).**\n"
      ]
    },
    {
      "cell_type": "markdown",
      "metadata": {
        "id": "vgBEaQFCxifh",
        "colab_type": "text"
      },
      "source": [
        "Primeiramente, iremos definir as funções para calcular cada uma das métricas: Dice's Coefficient (Dice), Mutual Information Measure (MIM), Expected Mutual Information Measure (EMIM) e Pearson's Chi-squared (χ²)."
      ]
    },
    {
      "cell_type": "code",
      "metadata": {
        "id": "IAGuB0Ocx_zS",
        "colab_type": "code",
        "colab": {}
      },
      "source": [
        "def valorDice(Nab, Na, Nb):\n",
        "  return 2*Nab / (Na + Nb)\n",
        "\n",
        "def valorMIM(Nab, Na, Nb, N):\n",
        "  return math.log(N, 10) * (Nab / (Na * Nb))\n",
        "\n",
        "def valorEMIM(Nab, Na, Nb, N):\n",
        "  return Nab * math.log(N * ((Nab) / Na*Nb), 10)\n",
        "\n",
        "def valorChiSquared(Nab, Na, Nb, N):\n",
        "  return ((Nab - (N * (Na / N) * (Nb / N)) ^ 2) / (N * (Na/N) * (Nb/N)))"
      ],
      "execution_count": 0,
      "outputs": []
    },
    {
      "cell_type": "markdown",
      "metadata": {
        "id": "wmTqPQgt1nhr",
        "colab_type": "text"
      },
      "source": [
        "Com as funções já criadas, podemos agora percorrer a lista invertida para cada consulta, armazenando os resultados dos cálculos de cada métrica."
      ]
    },
    {
      "cell_type": "code",
      "metadata": {
        "id": "5MZsIUGf11Dp",
        "colab_type": "code",
        "colab": {}
      },
      "source": [
        "for consulta in consultas:\n",
        "  if "
      ],
      "execution_count": 0,
      "outputs": []
    },
    {
      "cell_type": "markdown",
      "metadata": {
        "id": "InAHxGSEv7Ky",
        "colab_type": "text"
      },
      "source": [
        "Por fim, criaremos as tabelas referente às 5 consultas, com as 10 palavras mais associadas a cada consulta de acordo com as métricas que usamos no início da questão."
      ]
    },
    {
      "cell_type": "code",
      "metadata": {
        "id": "x-I3AjYPsWpH",
        "colab_type": "code",
        "outputId": "b6b0a353-3b7f-4cbd-af0c-91d093a81b75",
        "colab": {
          "base_uri": "https://localhost:8080/",
          "height": 49
        }
      },
      "source": [
        "tabela_q1 = pd.DataFrame(columns=['MIM', 'EMIM', 'χ²', 'Dice'])\n",
        "tabela_q1.index += 1\n",
        "tabela_q1.head(10)"
      ],
      "execution_count": 0,
      "outputs": [
        {
          "output_type": "execute_result",
          "data": {
            "text/html": [
              "<div>\n",
              "<style scoped>\n",
              "    .dataframe tbody tr th:only-of-type {\n",
              "        vertical-align: middle;\n",
              "    }\n",
              "\n",
              "    .dataframe tbody tr th {\n",
              "        vertical-align: top;\n",
              "    }\n",
              "\n",
              "    .dataframe thead th {\n",
              "        text-align: right;\n",
              "    }\n",
              "</style>\n",
              "<table border=\"1\" class=\"dataframe\">\n",
              "  <thead>\n",
              "    <tr style=\"text-align: right;\">\n",
              "      <th></th>\n",
              "      <th>MIM</th>\n",
              "      <th>EMIM</th>\n",
              "      <th>χ²</th>\n",
              "      <th>Dice</th>\n",
              "    </tr>\n",
              "  </thead>\n",
              "  <tbody>\n",
              "  </tbody>\n",
              "</table>\n",
              "</div>"
            ],
            "text/plain": [
              "Empty DataFrame\n",
              "Columns: [MIM, EMIM, χ², Dice]\n",
              "Index: []"
            ]
          },
          "metadata": {
            "tags": []
          },
          "execution_count": 6
        }
      ]
    },
    {
      "cell_type": "markdown",
      "metadata": {
        "id": "T4RELgtNspFN",
        "colab_type": "text"
      },
      "source": [
        "\n",
        "**Qual métrica você acha que obteve os melhores resultados? Por que?**"
      ]
    },
    {
      "cell_type": "markdown",
      "metadata": {
        "id": "slZPTQtAszjl",
        "colab_type": "text"
      },
      "source": [
        "..."
      ]
    },
    {
      "cell_type": "markdown",
      "metadata": {
        "id": "VYY6t-0bs4Jx",
        "colab_type": "text"
      },
      "source": [
        "# Questão 2"
      ]
    },
    {
      "cell_type": "markdown",
      "metadata": {
        "id": "pCUxjPfIs6Jc",
        "colab_type": "text"
      },
      "source": [
        "**De acordo com a métrica que deu os melhores resultados na sua opinião, execute agora cada consulta (usando a abordagem documento- ou termo-por-vez)  expandido-a com: os top-3, top-5 e top-10 documentos.**"
      ]
    },
    {
      "cell_type": "code",
      "metadata": {
        "id": "WDp8zlCCs-4S",
        "colab_type": "code",
        "colab": {}
      },
      "source": [
        ""
      ],
      "execution_count": 0,
      "outputs": []
    },
    {
      "cell_type": "markdown",
      "metadata": {
        "id": "BV_FQHeNs_bP",
        "colab_type": "text"
      },
      "source": [
        "**O que acontece com a precisão dos resultados em cada caso? Aumenta ou diminui? Justifique bem sua resposta.**"
      ]
    },
    {
      "cell_type": "markdown",
      "metadata": {
        "id": "XkWjZefYtCw8",
        "colab_type": "text"
      },
      "source": [
        "..."
      ]
    }
  ]
}